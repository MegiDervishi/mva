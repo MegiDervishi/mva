{
 "cells": [
  {
   "cell_type": "markdown",
   "metadata": {},
   "source": [
    "# Student: DERVISHI Megi"
   ]
  },
  {
   "cell_type": "markdown",
   "metadata": {
    "id": "m3Hq0xqALXmN"
   },
   "source": [
    "## Visualization of CNN: Grad-CAM\n",
    "* **Objective**: Convolutional Neural Networks are widely used on computer vision. It is powerful for processing grid-like data. However we hardly know how and why it works, due to the lack of decomposability into individually intuitive components. In this assignment, we use Grad-CAM, which highlights the regions of the input image that were important for the neural network prediction.\n",
    "\n",
    "* **To be submitted within 2 weeks**: this notebook, **cleaned** (i.e. without results, for file size reasons: `menu > kernel > restart and clean`), in a state ready to be executed (if one just presses 'Enter' till the end, one should obtain all the results for all images) with a few comments at the end. No additional report, just the notebook!\n",
    "\n",
    "* NB: if `PIL` is not installed, try `conda install pillow`.\n"
   ]
  },
  {
   "cell_type": "code",
   "execution_count": null,
   "metadata": {
    "id": "SSnfIgJQLXmP"
   },
   "outputs": [],
   "source": [
    "import torch\n",
    "import torch.nn as nn\n",
    "import torch.nn.functional as F\n",
    "from torchvision import models, datasets, transforms\n",
    "import matplotlib.pyplot as plt\n",
    "import pickle\n",
    "import urllib.request\n",
    "\n",
    "import numpy as np\n",
    "from PIL import Image\n",
    "\n",
    "%matplotlib inline"
   ]
  },
  {
   "cell_type": "markdown",
   "metadata": {
    "id": "bIBb_ICjLXmR"
   },
   "source": [
    "### Download the Model\n",
    "We provide you a pretrained model `ResNet-34` for `ImageNet` classification dataset.\n",
    "* **ImageNet**: A large dataset of photographs with 1 000 classes.\n",
    "* **ResNet-34**: A deep architecture for image classification."
   ]
  },
  {
   "cell_type": "code",
   "execution_count": null,
   "metadata": {
    "id": "awid-jAQLXmS",
    "scrolled": true
   },
   "outputs": [],
   "source": [
    "resnet34 = models.resnet34(pretrained=True)\n",
    "resnet34.eval() # set the model to evaluation mode"
   ]
  },
  {
   "cell_type": "markdown",
   "metadata": {
    "id": "2vLuccIILXmS"
   },
   "source": [
    "![ResNet34](https://miro.medium.com/max/1050/1*Y-u7dH4WC-dXyn9jOG4w0w.png)"
   ]
  },
  {
   "cell_type": "code",
   "execution_count": null,
   "metadata": {
    "id": "LiYvK0AXLXmS"
   },
   "outputs": [],
   "source": [
    "classes = pickle.load(urllib.request.urlopen('https://gist.githubusercontent.com/yrevar/6135f1bd8dcf2e0cc683/raw/d133d61a09d7e5a3b36b8c111a8dd5c4b5d560ee/imagenet1000_clsid_to_human.pkl') )"
   ]
  },
  {
   "cell_type": "markdown",
   "metadata": {
    "id": "bjKcZ8A3LXmS"
   },
   "source": [
    "### Input Images\n",
    "We provide you 20 images from ImageNet (download link on the webpage of the course or download directly using the following command line,).<br>\n",
    "In order to use the pretrained model resnet34, the input image should be normalized using `mean = [0.485, 0.456, 0.406]`, and `std = [0.229, 0.224, 0.225]`, and be resized as `(224, 224)`."
   ]
  },
  {
   "cell_type": "code",
   "execution_count": null,
   "metadata": {
    "id": "KxdGb8ZmLXmT"
   },
   "outputs": [],
   "source": [
    "def preprocess_image(dir_path):\n",
    "    normalize = transforms.Normalize(mean=[0.485, 0.456, 0.406],\n",
    "                                     std=[0.229, 0.224, 0.225])\n",
    "\n",
    "    dataset = datasets.ImageFolder(dir_path, transforms.Compose([\n",
    "            transforms.Resize(256), \n",
    "            transforms.CenterCrop(224), # resize the image to 224x224\n",
    "            transforms.ToTensor(), # convert numpy.array to tensor\n",
    "            normalize])) #normalize the tensor\n",
    "\n",
    "    return (dataset)"
   ]
  },
  {
   "cell_type": "code",
   "execution_count": null,
   "metadata": {
    "id": "WBXj6wlyLXmT",
    "scrolled": true
   },
   "outputs": [],
   "source": [
    "# The images should be in a *sub*-folder of \"data/\" (ex: data/TP2_images/images.jpg) and *not* directly in \"data/\"!\n",
    "# otherwise the function won't find them\n",
    "\n",
    "import os\n",
    "os.mkdir(\"data\")\n",
    "os.mkdir(\"data/TP2_images\")\n",
    "!cd data/TP2_images && wget \"https://www.lri.fr/~gcharpia/deeppractice/2022/TP2/TP2_images.zip\" && unzip TP2_images.zip\n",
    "dir_path = \"data/\" \n",
    "dataset = preprocess_image(dir_path)"
   ]
  },
  {
   "cell_type": "code",
   "execution_count": null,
   "metadata": {
    "id": "wWLlXmQ0LXmU"
   },
   "outputs": [],
   "source": [
    "# show the orignal image \n",
    "index = 5\n",
    "input_image = Image.open(dataset.imgs[index][0]).convert('RGB')\n",
    "plt.imshow(input_image)"
   ]
  },
  {
   "cell_type": "code",
   "execution_count": null,
   "metadata": {
    "id": "8thaMnlzLXmU"
   },
   "outputs": [],
   "source": [
    "output = resnet34(dataset[index][0].view(1, 3, 224, 224))\n",
    "values, indices = torch.topk(output, 3)\n",
    "print(\"Top 3-classes:\", indices[0].numpy(), [classes[x] for x in indices[0].numpy()])\n",
    "print(\"Raw class scores:\", values[0].detach().numpy())"
   ]
  },
  {
   "cell_type": "markdown",
   "metadata": {
    "id": "N-M_0OiILXmU"
   },
   "source": [
    "### Grad-CAM \n",
    "* **Overview:** Given an image, and a category (‘tiger cat’) as input, we forward-propagate the image through the model to obtain the `raw class scores` before softmax. The gradients are set to zero for all classes except the desired class (tiger cat), which is set to 1. This signal is then backpropagated to the `rectified convolutional feature map` of interest, where we can compute the coarse Grad-CAM localization (blue heatmap).\n",
    "\n",
    "\n",
    "* **To Do**: Define your own function Grad_CAM to achieve the visualization of the given images. For each image, choose the top-3 possible labels as the desired classes. Compare the heatmaps of the three classes, and conclude. \n",
    "\n",
    "\n",
    "* **Hints**: \n",
    " + We need to record the output and grad_output of the feature maps to achieve Grad-CAM. In pytorch, the function `Hook` is defined for this purpose. Read the tutorial of [hook](https://pytorch.org/tutorials/beginner/former_torchies/nnft_tutorial.html#forward-and-backward-function-hooks) carefully. \n",
    " + The pretrained model resnet34 doesn't have an activation function after its last layer, the output is indeed the `raw class scores`, you can use them directly. \n",
    " + The size of feature maps is 7x7, so your heatmap will have the same size. You need to project the heatmap to the resized image (224x224, not the original one, before the normalization) to have a better observation. The function [`torch.nn.functional.interpolate`](https://pytorch.org/docs/stable/nn.functional.html?highlight=interpolate#torch.nn.functional.interpolate) may help.  \n",
    " + Here is the link of the paper [Grad-CAM: Visual Explanations from Deep Networks via Gradient-based Localization](https://arxiv.org/pdf/1610.02391.pdf)"
   ]
  },
  {
   "cell_type": "markdown",
   "metadata": {
    "id": "JXYZHpuILXmc"
   },
   "source": [
    "![Grad-CAM](https://da2so.github.io/assets/post_img/2020-08-10-GradCAM/2.png)"
   ]
  },
  {
   "cell_type": "code",
   "execution_count": null,
   "metadata": {
    "id": "xA8PMJOWfhdh"
   },
   "outputs": [],
   "source": [
    "class GradCam():\n",
    "    def __init__(self):\n",
    "        self.model = resnet34\n",
    "        self.gradient = None\n",
    "        self.activation = None\n",
    "        self.hooks = []\n",
    "\n",
    "        def backward_hook(module, grad_inp, grad_out):\n",
    "            self.gradient = grad_out[0]\n",
    "            return None\n",
    "        def forward_hook(module, input, output):\n",
    "            self.activation = output\n",
    "            return None\n",
    "\n",
    "        h = self.model.layer4[2].conv2.register_forward_hook(forward_hook)\n",
    "        self.hooks.append(h)\n",
    "        h = self.model.layer4[2].conv2.register_backward_hook(backward_hook)\n",
    "        self.hooks.append(h)\n",
    "\n",
    "    def run(self, index_img, i):\n",
    "        img = dataset[index_img][0].view(1, 3, 224, 224)\n",
    "\n",
    "        output = self.model(img)\n",
    "        values, indices = torch.topk(output, 3)\n",
    "        class_index = indices[0].numpy()[i] #class id\n",
    "        class_score = values[0][i] #score \n",
    "\n",
    "        self.model.zero_grad()\n",
    "        class_score.backward()\n",
    "          \n",
    "        alpha_ck = torch.mean(self.gradient, dim=[2,3])\n",
    "        alpha_ck.unsqueeze_(-1).unsqueeze_(-1) #reshape as (1,512,1,1)\n",
    "        \n",
    "        lc_gradcam = F.relu((alpha_ck*self.activation).sum(1, keepdim=True))\n",
    "        upsample_lc = F.interpolate(lc_gradcam, size=(224,224), mode=\"bilinear\", align_corners=False)\n",
    "        normalized_lc = (upsample_lc- upsample_lc.min())/(upsample_lc.max() -upsample_lc.min())\n",
    "        self.gradient, self.activation = None, None\n",
    "        return normalized_lc.squeeze(), class_index\n",
    "\n",
    "    def remove_hooks(self):\n",
    "        for h in self.hooks: #remove hooks\n",
    "            h.remove()\n",
    "\n"
   ]
  },
  {
   "cell_type": "code",
   "execution_count": null,
   "metadata": {
    "id": "pcIOCl21zPTc"
   },
   "outputs": [],
   "source": [
    "#visualize\n",
    "import cv2\n",
    "from textwrap import wrap\n",
    "gradcam = GradCam()\n",
    "\n",
    "nb_images = 20\n",
    "for index_img in range(nb_images):\n",
    "  fig, axs = plt.subplots(1,4, figsize=(20,10))\n",
    "  \n",
    "  img = dataset[index_img][0].permute(1,2,0).detach().numpy() #original img\n",
    "  img = (img - img.min())/(img.max()-img.min())\n",
    "\n",
    "  axs[0].imshow(img)\n",
    "  axs[0].set_title(f\"Original image i={index_img}\")\n",
    "  for i in range(3):\n",
    "    heatmap, label = gradcam.run(index_img, i)\n",
    "    heatmap = heatmap.detach().numpy()\n",
    "    heatmap = cv2.applyColorMap(np.uint8(255 * heatmap), cv2.COLORMAP_JET)\n",
    "\n",
    "    img_heatmap = heatmap/255 *0.4  + img #new img\n",
    "    img_heatmap /= img_heatmap.max()\n",
    "\n",
    "    axs[i+1].set_title(\"\\n\".join(wrap(f'Label: {classes[label]}', 60)))\n",
    "    axs[i+1].imshow(img_heatmap, interpolation='nearest')\n",
    "  fig.tight_layout()\n",
    "  plt.show()\n",
    "    \n",
    "gradcam.remove_hooks()"
   ]
  },
  {
   "cell_type": "markdown",
   "metadata": {
    "id": "2EFfKEq6Hc_J"
   },
   "source": [
    "# Comments\n",
    "\n",
    "In general all three heatmaps target similar areas when the species predicted is very similar accross the three most-likely labels. \n",
    "\n",
    "For example \"African elephant, Indian Elephant and Tusker\" are all very similar labels, and the heatmaps are also nearly identical. \n",
    "\n",
    "However there are certain cases in which the model pays different attention to different parts of the image and hence gives completely different results for classes. For example on image with index 15, the first label (and the one that is correct) is \"sea lion\". The heatmap pays attention to the whole body of the animal and makes a correct prediction. However in the second run, the model seems to pay attention only to a part of the animal's body, not including the head and that makes it predict a \"balance beam\" or \"cowboy boot\". \n",
    "\n",
    "In general the model focuses on the most \"distinctive features\" of the animal in order to classify it. For example in the case of image i=19 the model focuses on the thorns. \n"
   ]
  }
 ],
 "metadata": {
  "colab": {
   "collapsed_sections": [],
   "name": "TP2_GradCAM_.ipynb",
   "private_outputs": true,
   "provenance": []
  },
  "kernelspec": {
   "display_name": "Python 3 (ipykernel)",
   "language": "python",
   "name": "python3"
  },
  "language_info": {
   "codemirror_mode": {
    "name": "ipython",
    "version": 3
   },
   "file_extension": ".py",
   "mimetype": "text/x-python",
   "name": "python",
   "nbconvert_exporter": "python",
   "pygments_lexer": "ipython3",
   "version": "3.7.2"
  }
 },
 "nbformat": 4,
 "nbformat_minor": 4
}
