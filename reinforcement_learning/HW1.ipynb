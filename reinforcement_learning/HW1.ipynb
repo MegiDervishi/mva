{
 "cells": [
  {
   "cell_type": "markdown",
   "metadata": {
    "id": "IAE8kMxe6E6k"
   },
   "source": [
    "# MVA - Homework 1 - Reinforcement Learning (2021/2022)\n",
    "\n",
    "**Name:** DERVISHI Megi\n",
    "\n",
    "**Email:** megi.dervishi@ens.fr"
   ]
  },
  {
   "cell_type": "markdown",
   "metadata": {
    "id": "vY4MH0nU637o"
   },
   "source": [
    "## Instructions\n",
    "\n",
    "* The deadline is **November 12 at 11:59 pm (Paris time).**\n",
    "\n",
    "* By doing this homework you agree to the late day policy, collaboration and misconduct rules reported on [Piazza](https://piazza.com/class/ktmvsc4knke4ia?cid=6).\n",
    "\n",
    "* **Mysterious or unsupported answers will not receive full credit**. A correct answer, unsupported by calculations, explanation, or algebraic work will receive no credit; an incorrect answer supported by substantially correct calculations and explanations might still receive partial credit.\n",
    "\n",
    "* Answers should be provided in **English**."
   ]
  },
  {
   "cell_type": "markdown",
   "metadata": {
    "id": "YB__2uUC5U1r"
   },
   "source": [
    "# Colab setup"
   ]
  },
  {
   "cell_type": "code",
   "execution_count": 1,
   "metadata": {
    "colab": {
     "base_uri": "https://localhost:8080/"
    },
    "id": "2XNj1_VZ2FGJ",
    "outputId": "b9ef4342-bba0-4b2a-9756-a00af3ab836c"
   },
   "outputs": [
    {
     "name": "stdout",
     "output_type": "stream",
     "text": [
      "Libraries installed, please restart the runtime!\n"
     ]
    }
   ],
   "source": [
    "from IPython import get_ipython\n",
    "\n",
    "if 'google.colab' in str(get_ipython()):\n",
    "  # install rlberry library\n",
    "  !pip install git+https://github.com/rlberry-py/rlberry.git@mva2021#egg=rlberry[default] > /dev/null 2>&1\n",
    "\n",
    "  # install ffmpeg-python for saving videos\n",
    "  !pip install ffmpeg-python > /dev/null 2>&1\n",
    "\n",
    "  # packages required to show video\n",
    "  !pip install pyvirtualdisplay > /dev/null 2>&1\n",
    "  !apt-get install -y xvfb python-opengl ffmpeg > /dev/null 2>&1\n",
    "\n",
    "  print(\"Libraries installed, please restart the runtime!\")\n"
   ]
  },
  {
   "cell_type": "code",
   "execution_count": 1,
   "metadata": {
    "id": "s8F7RiPXjutB"
   },
   "outputs": [],
   "source": [
    "# Create directory for saving videos\n",
    "!mkdir videos > /dev/null 2>&1\n",
    "\n",
    "# Initialize display and import function to show videos\n",
    "import rlberry.colab_utils.display_setup\n",
    "from rlberry.colab_utils.display_setup import show_video"
   ]
  },
  {
   "cell_type": "code",
   "execution_count": 2,
   "metadata": {
    "id": "KISV44N_nCNm"
   },
   "outputs": [],
   "source": [
    "# Useful libraries\n",
    "import numpy as np\n",
    "import matplotlib.pyplot as plt"
   ]
  },
  {
   "cell_type": "markdown",
   "metadata": {
    "id": "L4hKBRTCh6Gk"
   },
   "source": [
    "# Preparation\n",
    "\n",
    "In the coding exercises, you will use a *grid-world* MDP, which is represented in Python using the interface provided by the [Gym](https://gym.openai.com/) library. The cells below show how to interact with this MDP and how to visualize it.\n"
   ]
  },
  {
   "cell_type": "code",
   "execution_count": 3,
   "metadata": {
    "colab": {
     "base_uri": "https://localhost:8080/"
    },
    "id": "514mHDeQooKa",
    "outputId": "abe7843a-24aa-4b30-b738-b9cae5f4b972"
   },
   "outputs": [
    {
     "name": "stderr",
     "output_type": "stream",
     "text": [
      "[INFO] OpenGL_accelerate module loaded \n",
      "[INFO] Using accelerated ArrayDatatype \n",
      "[INFO] Generating grammar tables from /usr/lib/python3.7/lib2to3/Grammar.txt \n",
      "[INFO] Generating grammar tables from /usr/lib/python3.7/lib2to3/PatternGrammar.txt \n"
     ]
    }
   ],
   "source": [
    "from rlberry.envs import GridWorld\n",
    "\n",
    "def get_env():\n",
    "  \"\"\"Creates an instance of a grid-world MDP.\"\"\"\n",
    "  env = GridWorld(\n",
    "      nrows=5,\n",
    "      ncols=7,\n",
    "      reward_at = {(0, 6):1.0},\n",
    "      walls=((0, 4), (1, 4), (2, 4), (3, 4)),\n",
    "      success_probability=0.9,\n",
    "      terminal_states=((0, 6),)\n",
    "  )\n",
    "  return env\n",
    "\n",
    "def render_policy(env, policy=None, horizon=50):\n",
    "  \"\"\"Visualize a policy in an environment\n",
    "\n",
    "  Args:\n",
    "    env: GridWorld\n",
    "        environment where to run the policy\n",
    "    policy: np.array\n",
    "        matrix mapping states to action (Ns).\n",
    "        If None, runs random policy.\n",
    "    horizon: int\n",
    "        maximum number of timesteps in the environment.\n",
    "  \"\"\"\n",
    "  env.enable_rendering()\n",
    "  state = env.reset()                       # get initial state\n",
    "  for timestep in range(horizon):\n",
    "      if policy is None:\n",
    "        action = env.action_space.sample()  # take random actions\n",
    "      else:\n",
    "        action = policy[state]\n",
    "      next_state, reward, is_terminal, info = env.step(action)\n",
    "      state = next_state\n",
    "      if is_terminal:\n",
    "        break\n",
    "  # save video and clear buffer\n",
    "  env.save_video('./videos/gw.mp4', framerate=5)\n",
    "  env.clear_render_buffer()\n",
    "  env.disable_rendering()\n",
    "  # show video\n",
    "  show_video('./videos/gw.mp4')\n"
   ]
  },
  {
   "cell_type": "code",
   "execution_count": 4,
   "metadata": {
    "colab": {
     "base_uri": "https://localhost:8080/",
     "height": 549
    },
    "id": "hQAHUBw_ifMI",
    "outputId": "4f0b6132-e114-4840-992c-220df3d0aab3"
   },
   "outputs": [
    {
     "data": {
      "text/html": [
       "<video alt=\"videos/gw.mp4\" autoplay\n",
       "                      loop controls style=\"height: 400px;\">\n",
       "                    <source src=\"data:video/mp4;base64,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\" type=\"video/mp4\" />\n",
       "                 </video>"
      ],
      "text/plain": [
       "<IPython.core.display.HTML object>"
      ]
     },
     "metadata": {},
     "output_type": "display_data"
    },
    {
     "name": "stdout",
     "output_type": "stream",
     "text": [
      "Shape of the reward array = (S, A) = (31, 4)\n",
      "Shape of the transition array = (S, A, S) = (31, 4, 31)\n",
      "Reward at (s, a) = (1, 0): 0.0\n",
      "Prob[s'=2 | s=1, a=0]: 0.04999999999999999\n",
      "Number of states and actions: 31, 4\n",
      "Index of state (1, 0): 6\n",
      "Coordinates of state 5: (0, 6)\n"
     ]
    }
   ],
   "source": [
    "# Create an environment and visualize it\n",
    "env = get_env()\n",
    "render_policy(env)  # visualize random policy\n",
    "\n",
    "# The reward function and transition probabilities can be accessed through\n",
    "# the R and P attributes:\n",
    "print(f\"Shape of the reward array = (S, A) = {env.R.shape}\")\n",
    "print(f\"Shape of the transition array = (S, A, S) = {env.P.shape}\")\n",
    "print(f\"Reward at (s, a) = (1, 0): {env.R[1, 0]}\")\n",
    "print(f\"Prob[s\\'=2 | s=1, a=0]: {env.P[1, 0, 2]}\")\n",
    "print(f\"Number of states and actions: {env.Ns}, {env.Na}\")\n",
    "\n",
    "# The states in the griworld correspond to (row, col) coordinates.\n",
    "# The environment provides a mapping between (row, col) and the index of\n",
    "# each state:\n",
    "print(f\"Index of state (1, 0): {env.coord2index[(1, 0)]}\")\n",
    "print(f\"Coordinates of state 5: {env.index2coord[5]}\")"
   ]
  },
  {
   "cell_type": "markdown",
   "metadata": {
    "id": "ibGD_3I89CNu"
   },
   "source": [
    "# Part 1 - Dynamic Programming"
   ]
  },
  {
   "cell_type": "markdown",
   "metadata": {
    "id": "NR7h5won9NQY"
   },
   "source": [
    "## Question 1.1\n",
    "\n",
    "Consider a general MDP with a discount factor of $\\gamma < 1$. Assume that the horizon is infinite (so there is no termination). A policy $\\pi$ in this MDP\n",
    "induces a value function $V^\\pi$. Suppose an affine transformation is applied to the reward, what is\n",
    "the new value function? Is the optimal policy preserved?\n",
    "\n"
   ]
  },
  {
   "cell_type": "markdown",
   "metadata": {
    "id": "313W4K3B_LtN"
   },
   "source": [
    "### **Answer**\n",
    "\n",
    "By definition let: $V^{\\pi} = \\mathbb{E}[\\sum^\\infty_{t=0} \\gamma^tr(s_t,d_t(h_t)) | s_0=s;\\pi]$.\n",
    "\n",
    "Suppose an affine transformation is applied to the reward $r$ which results to a new reward $r'$. Then:\n",
    "$$r'(s_t +d_t(h_t)) = ar(s_t,d_t(h_t))+b$$ where $a \\neq 0$ (otherwise we would have 0 reward and hence it is trivial), and $b \\in \\mathbb{R}$.\n",
    "The new induced value function would hence be:\n",
    "\\begin{align}\n",
    "V^{\\pi'} &=  \\mathbb{E}[\\sum^\\infty_{t=0} \\gamma^tr'(s_t,d_t(h_t)) | s_0=s;\\pi']\\\\ \n",
    "&= \\mathbb{E}[\\sum^\\infty_{t=0} \\gamma^t(ar(s_t,d_t(h_t))+b) | s_0=s;\\pi']\\\\\n",
    "&= \\mathbb{E}[\\sum^\\infty_{t=0} \\gamma^tar(s_t,d_t(h_t)) | s_0=s;\\pi'] + \\mathbb{E}[\\sum^\\infty_{t=0} \\gamma^tb | s_0=s;\\pi']\n",
    "\\end{align}\n",
    "Since $\\mathbb{E}[\\sum^\\infty_{t=0} \\gamma^tb | s_0=s;\\pi']$ is not a random variable then it is equal to $\\sum^\\infty_{t=0} \\gamma^tb = \\frac{b}{1-\\gamma}$ which is a constant that we can denote as $b'$.\n",
    "Therefore we have:\n",
    "\\begin{align}\n",
    "V^{{\\pi'}}(s) &= a\\mathbb{E}[\\sum^\\infty_{t=0} \\gamma^tr(s_t,d_t(h_t)) | s_0=s;\\pi'] + b'\n",
    "\\end{align}\n",
    "Now adding a constant $b'$ will not change the argmax, however we now have to distinguish two cases. Given a function $f$ if $a > 0$ then $\\arg\\max_x a f(x) = \\arg\\max f(x)$, hence we see that if $a > 0$ then the optimal policy will be left invariant. However if $a < 0$ then we have that $\\arg\\max_x a f(x) = \\arg\\min_x f(x)$ hence the optimal policy will change.\n",
    "\n"
   ]
  },
  {
   "cell_type": "markdown",
   "metadata": {
    "id": "0uCVgkDo9vTM"
   },
   "source": [
    "## Question 1.2\n",
    "\n",
    "Consider an infinite-horizon $\\gamma$-discounted MDP. We denote by $Q^*$ the $Q$-function of the optimal policy $\\pi^*$. Prove that, for any function $Q(s, a)$ (which is **not** necessarily the value function of a policy), the following inequality holds for any state $s$:\n",
    "\n",
    "$$\n",
    "V^{\\pi_Q}(s) \\geq V^*(s) - \\frac{2}{1-\\gamma}||Q^*-Q||_\\infty,\n",
    "$$\n",
    "\n",
    "where $||Q^*-Q||_\\infty = \\max_{s, a} |Q^*(s, a) - Q(s, a)|$ and $\\pi_Q(s) \\in \\arg\\max_a Q(s, a)$. Can you use this result to show that any policy $\\pi$ such that $\\pi(s) \\in \\arg\\max_a Q^*(s, a)$ is optimal?"
   ]
  },
  {
   "cell_type": "markdown",
   "metadata": {
    "id": "8MqGWPPD_OAI"
   },
   "source": [
    "### **Answer**\n",
    "\n",
    "Let $a \\in \\mathcal{A}$, we have:\n",
    "\\begin{align}\n",
    "\\|V^* - V^{\\pi_Q}\\| &= \\|V^* - Q(\\cdot,a) + Q(\\cdot,a)- V^{\\pi_Q}\\| \\\\\n",
    "&\\leq \\|V^* - Q(\\cdot,a)\\| + \\|Q(\\cdot,a) - V^{\\pi_Q}\\| \\\\\n",
    "&= \\|V^* - Q(\\cdot,a)\\| + \\|Q(\\cdot,a) - V^* + V^* - V^{\\pi_Q}\\|\\\\\n",
    "&\\leq \\|V^* - Q(\\cdot,a)\\| + \\|Q(\\cdot,a) - V^*(s)\\| + \\|V^* - V^{\\pi_Q}\\|\\\\\n",
    "&\\leq 2\\|V^* - Q(\\cdot,a)\\| + \\|\\mathcal{T}^{*} V^* - \\mathcal{T}^{*} V^{\\pi_Q}\\|\n",
    "\\end{align}\n",
    "Now using that the Bellman operators are a $\\gamma$ contraction of the $\\infty$ norm we can rewrite the above as \n",
    "\\begin{align}\n",
    "\\forall a \\in \\mathcal{A}, \\forall s \\in \\mathcal{S}, \\quad (1 - \\gamma) \\|V^* - V^{\\pi_Q}\\| &\\leq 2\\|V^* - Q(\\cdot,a)\\|\\\\\n",
    "\\Leftrightarrow \\|V^* - V^{\\pi_Q}\\| &\\leq \\frac{2}{1 - \\gamma} \\|V^* - Q(\\cdot,a)\\|\n",
    "\\end{align}\n",
    "Now note the two following identities\n",
    "\\begin{equation}\n",
    "V^* = \\max_a Q^*(\\cdot, a) \\quad \\text{and} \\quad \\pi_Q(s) \\in \\arg\\max_a Q(s, a) \\Rightarrow Q(s, \\pi_Q(s)) = \\max_a Q(s, a)   \n",
    "\\end{equation}\n",
    "Now take the previous inequality, set $s^* = \\arg\\max_s |V^*(s) - Q(s, \\pi_Q(s))|$ then take $a = \\pi_Q(s^*)$, which leads to\n",
    "\\begin{align}\n",
    "\\|V^* - V^{\\pi_Q}\\| &\\leq \\frac{2}{1 - \\gamma} |\\max_a Q^*(s^*, a) - \\max_a Q(s^*,a)|\\\\\n",
    "&\\leq \\frac{2}{1 - \\gamma} \\max_a | Q^*(s^*, a) - Q(s^*, a)|\\\\\n",
    "&\\leq \\frac{2}{1 - \\gamma} \\max_{a, s} | Q^*(s, a) - Q(s, a)|\\\\\n",
    "&\\leq \\frac{2}{1 - \\gamma} \\| Q^* - Q\\|\n",
    "\\end{align}\n",
    "Hence we obtain that\n",
    "\\begin{equation}\n",
    "V^* - V^{\\pi_Q} \\leq \\|V^* - V^{\\pi_Q}\\| \\leq \\frac{2}{1- \\gamma} \\|Q^* - Q\\|.\n",
    "\\end{equation}\n",
    "QED.\n",
    "\n",
    "Yes this result can be used to show that any policy $\\pi(s) \\in \\arg\\max_a Q^*(s, a)$ is optimal. Indeed fix $\\pi(s) \\in \\arg\\max_a Q^*(s, a)$, take the inequality and let $Q = Q^*$. Then we have that $\\pi_Q = \\pi$ and the inequality becomes\n",
    "\\begin{equation}\n",
    "V^{\\pi} = V^{\\pi_Q} \\geq V^*\n",
    "\\end{equation}\n",
    "However from the definition of $V^*$ we know that $V^*$ must be maximal. Hence $V^\\pi = V^*$ and $\\pi$ is an optimal policy."
   ]
  },
  {
   "cell_type": "markdown",
   "metadata": {
    "id": "yIrtb7sihYcM"
   },
   "source": [
    "\n",
    "## Question 1.3\n",
    "\n",
    "In this question, you will implement and compare the policy and value iteration algorithms for a finite MDP. \n",
    "\n",
    "Complete the functions `policy_evaluation`, `policy_iteration` and `value_iteration` below.\n",
    "\n",
    "\n",
    "Compare value iteration and policy iteration. Highlight pros and cons of each method."
   ]
  },
  {
   "cell_type": "markdown",
   "metadata": {
    "id": "GLmQtk-wt0HS"
   },
   "source": [
    "### **Answer**\n",
    "\n",
    "[pros/cons of each method + implementation below]\n",
    "\n",
    "As we have seen from the lecture the advantage of value iteration is that each iteration is very computationally efficient since we are performing only a single matrix multiplication. However a drawback is that we converge only asymptotically to the result. Policy evaluation on the other hand will converge in a finite number of iterations. However each iteration requires a full policy evaluation (i.e. the inversion of a matrix) which is computationally expensive."
   ]
  },
  {
   "cell_type": "code",
   "execution_count": 97,
   "metadata": {
    "id": "9yI0YYtMmpDQ"
   },
   "outputs": [],
   "source": [
    "def policy_evaluation(P, R, policy, gamma=0.9, tol=1e-2):\n",
    "    \"\"\"\n",
    "    Args:\n",
    "        P: np.array\n",
    "            transition matrix (NsxNaxNs)\n",
    "        R: np.array\n",
    "            reward matrix (NsxNa)\n",
    "        policy: np.array\n",
    "            matrix mapping states to action (Ns)\n",
    "        gamma: float\n",
    "            discount factor\n",
    "        tol: float\n",
    "            precision of the solution\n",
    "    Return:\n",
    "        value_function: np.array\n",
    "            The value function of the given policy\n",
    "    \"\"\"\n",
    "    Ns, Na = R.shape\n",
    "    R_policy = np.array([R[i, policy[i]] for i in range(Ns)])\n",
    "    P_policy = np.array([P[i, policy[i],:] for i in range(Ns)])\n",
    "    value_function = np.linalg.solve((np.identity(Ns) - gamma * P_policy), R_policy)\n",
    "    return value_function"
   ]
  },
  {
   "cell_type": "code",
   "execution_count": 98,
   "metadata": {
    "id": "ncqbPx99ncVY"
   },
   "outputs": [],
   "source": [
    "def policy_iteration(P, R, gamma=0.9, tol=1e-3):\n",
    "    \"\"\"\n",
    "    Args:\n",
    "        P: np.array\n",
    "            transition matrix (NsxNaxNs)\n",
    "        R: np.array\n",
    "            reward matrix (NsxNa)\n",
    "        gamma: float\n",
    "            discount factor\n",
    "        tol: float\n",
    "            precision of the solution\n",
    "    Return:\n",
    "        policy: np.array\n",
    "            the final policy\n",
    "        V: np.array\n",
    "            the value function associated to the final policy\n",
    "    \"\"\"\n",
    "    Ns, Na = R.shape\n",
    "    V = np.zeros(Ns)\n",
    "    policy = np.ones(Ns, dtype=np.int)\n",
    "    value_change = np.inf\n",
    "    \n",
    "    while value_change >= tol:\n",
    "        new_value_function = policy_evaluation(P, R, policy, gamma = gamma)\n",
    "        value_change = np.max(np.abs(new_value_function - V))\n",
    "        V = np.copy(new_value_function)\n",
    "        improved_policy = np.argmax(R + gamma * P @ V, axis = 1)\n",
    "        policy = improved_policy\n",
    "\n",
    "    return policy, V"
   ]
  },
  {
   "cell_type": "code",
   "execution_count": 99,
   "metadata": {
    "id": "3jB7dfA5nRCZ"
   },
   "outputs": [],
   "source": [
    "def value_iteration(P, R, gamma=0.9, tol=1e-3):\n",
    "    \"\"\"\n",
    "    Args:\n",
    "        P: np.array\n",
    "            transition matrix (NsxNaxNs)\n",
    "        R: np.array\n",
    "            reward matrix (NsxNa)\n",
    "        gamma: float\n",
    "            discount factor\n",
    "        tol: float\n",
    "            precision of the solution\n",
    "    Return:\n",
    "        Q: final Q-function (at iteration n)\n",
    "        greedy_policy: greedy policy wrt Qn\n",
    "        Qfs: all Q-functions generated by the algorithm (for visualization)\n",
    "    \"\"\"\n",
    "    Ns, Na = R.shape\n",
    "    Q = np.zeros((Ns, Na))\n",
    "    Qfs = [Q]\n",
    "\t  \n",
    "    Q_change = np.inf\n",
    "    while Q_change >= tol:\n",
    "      new_Q = R + gamma * (P @ np.max(Q, axis = 1))\n",
    "      Q_change = np.max(np.max(np.abs(new_Q - Q), axis = 1), axis = 0)\n",
    "      Q = new_Q\n",
    "      Qfs.append(Q)\n",
    "\n",
    "    greedy_policy = np.argmax(Q, axis=1)\n",
    "    return Q, greedy_policy, Qfs"
   ]
  },
  {
   "cell_type": "markdown",
   "metadata": {
    "id": "-Fi0IzZJp74Z"
   },
   "source": [
    "### Testing your code"
   ]
  },
  {
   "cell_type": "code",
   "execution_count": 101,
   "metadata": {
    "colab": {
     "base_uri": "https://localhost:8080/",
     "height": 1000
    },
    "id": "P7JKrc1oqFI2",
    "outputId": "fbe0ea06-f9a6-4187-d349-c1c266e5bab8"
   },
   "outputs": [
    {
     "name": "stdout",
     "output_type": "stream",
     "text": [
      "[VI]Greedy policy: \n"
     ]
    },
    {
     "data": {
      "text/html": [
       "<video alt=\"videos/gw.mp4\" autoplay\n",
       "                      loop controls style=\"height: 400px;\">\n",
       "                    <source src=\"data:video/mp4;base64,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\" type=\"video/mp4\" />\n",
       "                 </video>"
      ],
      "text/plain": [
       "<IPython.core.display.HTML object>"
      ]
     },
     "metadata": {},
     "output_type": "display_data"
    },
    {
     "name": "stdout",
     "output_type": "stream",
     "text": [
      "\n",
      "[PI]final policy: \n"
     ]
    },
    {
     "data": {
      "text/html": [
       "<video alt=\"videos/gw.mp4\" autoplay\n",
       "                      loop controls style=\"height: 400px;\">\n",
       "                    <source src=\"data:video/mp4;base64,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\" type=\"video/mp4\" />\n",
       "                 </video>"
      ],
      "text/plain": [
       "<IPython.core.display.HTML object>"
      ]
     },
     "metadata": {},
     "output_type": "display_data"
    },
    {
     "data": {
      "image/png": "[encoded data removed]",
      "text/plain": [
       "<Figure size 432x288 with 1 Axes>"
      ]
     },
     "metadata": {
      "needs_background": "light"
     },
     "output_type": "display_data"
    }
   ],
   "source": [
    "# Parameters\n",
    "tol = 1e-5\n",
    "gamma = 0.99\n",
    "\n",
    "# Environment\n",
    "env = get_env()\n",
    "\n",
    "# run value iteration to obtain Q-values\n",
    "VI_Q, VI_greedypol, all_qfunctions = value_iteration(env.P, env.R, gamma=gamma, tol=tol)\n",
    "\n",
    "# render the policy\n",
    "print(\"[VI]Greedy policy: \")\n",
    "render_policy(env, VI_greedypol)\n",
    "\n",
    "# compute the value function of the greedy policy using matrix inversion\n",
    "# ====================================================\n",
    "\n",
    "greedy_V = policy_evaluation(env.P, env.R, VI_greedypol, gamma=gamma)\n",
    "\n",
    "# ====================================================\n",
    "\n",
    "# show the error between the computed V-functions and the final V-function\n",
    "# (that should be the optimal one, if correctly implemented)\n",
    "# as a function of time\n",
    "final_V = all_qfunctions[-1].max(axis=1)\n",
    "norms = [ np.linalg.norm(q.max(axis=1) - final_V) for q in all_qfunctions]\n",
    "plt.plot(norms)\n",
    "plt.xlabel('Iteration')\n",
    "plt.ylabel('Error')\n",
    "plt.title(\"Value iteration: convergence\")\n",
    "\n",
    "#### POLICY ITERATION ####\n",
    "PI_policy, PI_V = policy_iteration(env.P, env.R, gamma=gamma, tol=tol)\n",
    "\n",
    "print(\"\\n[PI]final policy: \")\n",
    "render_policy(env, PI_policy)\n",
    "\n",
    "plt.show()\n",
    "## Uncomment below to check that everything is correct\n",
    "#print(PI_policy, VI_greedypol)\n",
    "#print(PI_V, greedy_V)\n",
    "assert np.allclose(PI_policy, VI_greedypol),\\\n",
    "     \"You should check the code, the greedy policy computed by VI is not equal to the solution of PI\"\n",
    "assert np.allclose(PI_V, greedy_V),\\\n",
    "     \"Since the policies are equal, even the value function should be\"\n",
    "\n",
    "plt.show()"
   ]
  },
  {
   "cell_type": "markdown",
   "metadata": {
    "id": "2V1QdoH-xFX0"
   },
   "source": [
    "# Part 2 - Tabular RL"
   ]
  },
  {
   "cell_type": "markdown",
   "metadata": {
    "id": "Qf51VhoPxbV4"
   },
   "source": [
    "## Question 2.1\n",
    "\n",
    "The code below collects two datasets of transitions (containing states, actions, rewards and next states) for a discrete MDP.\n",
    "\n",
    "For each of the datasets:\n",
    "\n",
    "1. Estimate the transitions and rewards, $\\hat{P}$ and $\\hat{R}$.\n",
    "2. Compute the optimal value function and the optimal policy with respect to the estimated MDP (defined by $\\hat{P}$ and $\\hat{R}$), which we denote by $\\hat{\\pi}$ and $\\hat{V}$.\n",
    "3. Numerically compare the performance of $\\hat{\\pi}$ and $\\pi^\\star$ (the true optimal policy), and the error between $\\hat{V}$ and $V^*$ (the true optimal value function).\n",
    "\n",
    "Which of the two data collection methods do you think is better? Why?"
   ]
  },
  {
   "cell_type": "markdown",
   "metadata": {
    "id": "eWSyewG2EZpJ"
   },
   "source": [
    "### **Answer**\n",
    "\n",
    "I think the first data collection method is better because the samples are all related while in the second data collection method the samples are taken randomly and hence some samples may not help us in learning the target policy. In other words, the first data collection will have a better sample efficicency as I describe later in question 2.3. Indeed in most cases we observe that the performance of the estimated policy for the first dataset is higher than the one of the second dataset. Similary the errors are also usually better for the first dataset altough there is a bigger variance.\n"
   ]
  },
  {
   "cell_type": "code",
   "execution_count": 102,
   "metadata": {
    "id": "FKVdWsLLWgiG"
   },
   "outputs": [],
   "source": [
    "def estimate_PR(dataset):\n",
    "    \"\"\" Estimate P and R from a given dataset. \"\"\"\n",
    "    s, a, r, ns = dataset\n",
    "    S = list(set(s).union(set(ns)))\n",
    "    Ns = len(S)\n",
    "    A = list(set(a))\n",
    "    Na = len(A)\n",
    "    Nsas = dict()\n",
    "    Nsa = dict()\n",
    "    for i in range(len(s)):\n",
    "        if (s[i], a[i], ns[i]) not in Nsas.keys():\n",
    "            Nsas[s[i], a[i], ns[i]] = 0\n",
    "        Nsas[s[i], a[i], ns[i]] += 1\n",
    "        if (s[i], a[i]) not in Nsa.keys():\n",
    "            Nsa[s[i], a[i]] = 0\n",
    "        Nsa[s[i], a[i]] += 1\n",
    "    P = np.zeros((Ns, Na, Ns))\n",
    "    R = np.zeros((Ns, Na))\n",
    "    for (si, ai, nsi), cnt in Nsas.items():\n",
    "        P[S.index(si), A.index(ai), S.index(nsi)] = Nsas[si, ai, nsi]/Nsa[si, ai]\n",
    "        R[S.index(si), A.index(ai)] = 1/Nsa[si, ai] * np.sum(r[(si == s)*(ai == a)])\n",
    "    return P, R\n"
   ]
  },
  {
   "cell_type": "code",
   "execution_count": 89,
   "metadata": {
    "colab": {
     "base_uri": "https://localhost:8080/",
     "height": 332
    },
    "id": "8lNPhB28EcGd",
    "outputId": "5717fe3e-97df-4c7a-a7a0-2a09eb6101f0"
   },
   "outputs": [
    {
     "data": {
      "image/png": "[encoded data removed]",
      "text/plain": [
       "<Figure size 432x288 with 1 Axes>"
      ]
     },
     "metadata": {
      "needs_background": "light"
     },
     "output_type": "display_data"
    },
    {
     "name": "stdout",
     "output_type": "stream",
     "text": [
      "Performance of the estimated pi from dataset 1 3.5872535190472674\n",
      "Performance of the estimated pi from dataset 2 4.234860608446979\n"
     ]
    }
   ],
   "source": [
    "def get_random_policy_dataset(env, n_samples):\n",
    "  \"\"\"Get a dataset following a random policy to collect data.\"\"\"\n",
    "  states = []\n",
    "  actions = []\n",
    "  rewards = []\n",
    "  next_states = []\n",
    "  \n",
    "  state = env.reset()\n",
    "  for _ in range(n_samples):\n",
    "    action = env.action_space.sample()\n",
    "    next_state, reward, is_terminal, info = env.step(action)\n",
    "    states.append(state)\n",
    "    actions.append(action)\n",
    "    rewards.append(reward)\n",
    "    next_states.append(next_state)\n",
    "    # update state\n",
    "    state = next_state\n",
    "    if is_terminal:\n",
    "      state = env.reset()\n",
    "\n",
    "  dataset = (np.array(states), np.array(actions), np.array(rewards), np.array(next_states))\n",
    "  return dataset\n",
    "\n",
    "def get_uniform_dataset(env, n_samples):\n",
    "  \"\"\"Get a dataset by uniformly sampling states and actions.\"\"\"\n",
    "  states = []\n",
    "  actions = []\n",
    "  rewards = []\n",
    "  next_states = []\n",
    "  for _ in range(n_samples):\n",
    "    state = env.observation_space.sample()\n",
    "    action = env.action_space.sample()\n",
    "    next_state, reward, is_terminal, info = env.sample(state, action)\n",
    "    states.append(state)\n",
    "    actions.append(action)\n",
    "    rewards.append(reward)\n",
    "    next_states.append(next_state)\n",
    "\n",
    "  dataset = (np.array(states), np.array(actions), np.array(rewards), np.array(next_states))\n",
    "  return dataset\n",
    "\n",
    "while True:\n",
    "    # If the datasets sampled in P1, R1 or P2, R2 are incomplete then the trained model\n",
    "    # will be missing some rows/cols hence the following comparison won't work.\n",
    "\n",
    "    \n",
    "    # Collect two different datasets\n",
    "    num_samples = 500\n",
    "    env = get_env()\n",
    "    dataset_1 = get_random_policy_dataset(env, num_samples)\n",
    "    dataset_2 = get_uniform_dataset(env, num_samples)\n",
    "\n",
    "    # Item 3: Estimate the MDP with the two datasets; compare the optimal value\n",
    "    # functions in the true and in the estimated MDPs\n",
    "\n",
    "    P1, R1 = estimate_PR(dataset_1)\n",
    "    P2, R2 = estimate_PR(dataset_2)\n",
    "\n",
    "    Q1, greedy_policy1, Qfs1 = value_iteration(P1, R1)\n",
    "    Q2, greedy_policy2, Qfs2 = value_iteration(P2, R2)\n",
    "    Q3, greedy_policy3, Qfs3 = value_iteration(env.P, env.R)\n",
    "\n",
    "    final_V3 = Qfs3[-1].max(axis=1)\n",
    "    norms3 = [ np.linalg.norm(q.max(axis=1) - final_V3) for q in Qfs3]\n",
    "    final_V1 = Qfs1[-1].max(axis=1)\n",
    "    if final_V1.shape == final_V3.shape and final_V2.shape == final_V3.shape:\n",
    "        break\n",
    "\n",
    "norms1 = [ np.linalg.norm(q.max(axis=1) - final_V3) for q in Qfs1]\n",
    "plt.plot(norms1, label = 'D1')\n",
    "\n",
    "final_V2 = Qfs2[-1].max(axis=1)\n",
    "norms2 = [ np.linalg.norm(q.max(axis=1) - final_V3) for q in Qfs2]\n",
    "plt.plot(norms2, label = 'D2')\n",
    "\n",
    "plt.plot(norms3, label = 'env')\n",
    "plt.legend()\n",
    "plt.xlabel('Iteration')\n",
    "plt.ylabel('Error')\n",
    "plt.title(\"Value iteration: convergence for different datasets\")\n",
    "plt.show()\n",
    "\n",
    "#print(np.linalg.norm(final_V1 - final_V3), np.linalg.norm(final_V2 - final_V3))\n",
    "policy_performance1 = np.mean(policy_evaluation(env.P, env.R, greedy_policy1))\n",
    "policy_performance2 = np.mean(policy_evaluation(env.P, env.R, greedy_policy2))\n",
    "print('Performance of the estimated pi from dataset 1', policy_performance1)\n",
    "print('Performance of the estimated pi from dataset 2', policy_performance2)"
   ]
  },
  {
   "cell_type": "markdown",
   "metadata": {
    "id": "UKINsa_yGLGL"
   },
   "source": [
    "## Question 2.2\n",
    "\n",
    "Suppose that $\\hat{P}$ and $\\hat{R}$ are estimated from a dataset of exactly $N$ i.i.d. samples from **each** state-action pair. This means that, for each $(s,a)$, we have $N$ samples $\\{(s_1',r_1, \\dots, s_N', r_N\\}$, where $s_i' \\sim P(\\cdot | s,a)$ and $r_i \\sim R(s,a)$ for $i=1,\\dots,N$, and\n",
    "$$ \\hat{P}(s'|s,a) = \\frac{1}{N}\\sum_{i=1}^N \\mathbb{1}(s_i' = s'), $$\n",
    "$$ \\hat{R}(s,a) = \\frac{1}{N}\\sum_{i=1}^N r_i.$$\n",
    "Suppose that $R$ is a distribution with support in $[0,1]$. Let $\\hat{V}$ be the optimal value function computed in the empirical MDP (i.e., the one with transitions $\\hat{P}$ and rewards $\\hat{R}$). For any $\\delta\\in(0,1)$, derive an upper bound to the error\n",
    "\n",
    "$$ \\| \\hat{V} - V^* \\|_\\infty $$\n",
    "\n",
    "which holds with probability at least $1-\\delta$.\n",
    "\n",
    "**Note** Your bound should only depend on deterministic quantities like $N$, $\\gamma$, $\\delta$, $S$, $A$. It should *not* dependent on the actual random samples.\n",
    "\n",
    "**Hint** The following two inequalities may be helpful.\n",
    "\n",
    "1. **A (simplified) simulation lemma**. For any state $\\bar{s}$,\n",
    "\n",
    "$$ |\\hat{V}(\\bar{s}) - V^*(\\bar{s})| \\leq \\frac{1}{1-\\gamma}\\max_{s,a} \\left| R(s,a) - \\hat{R}(s,a) + \\gamma \\sum_{s'}(P(s'|s,a) - \\hat{P}(s'|s,a)) V^*(s') \\right|$$\n",
    "\n",
    "2. **Hoeffding's inequality**. Let $X_1, \\dots X_N$ be $N$ i.i.d. random variables bounded in the interval $[0,b]$ for some $b>0$. Let $\\bar{X} = \\frac{1}{N}\\sum_{i=1}^N X_i$ be the empirical mean. Then, for any $\\epsilon > 0$,\n",
    "\n",
    "$$ \\mathbb{P}(|\\bar{X} - \\mathbb{E}[\\bar{X}]| > \\epsilon) \\leq 2e^{-\\frac{2N\\epsilon^2}{b^2}}.$$"
   ]
  },
  {
   "cell_type": "markdown",
   "metadata": {
    "id": "fKmdulLaMoiN"
   },
   "source": [
    "### **Answer**\n",
    "\n",
    "Before we start note that by an abuse of notation $R(s,a)$ in the simplified simulation lemma is actually $\\mathbb{E}[R(s,a)]$.\n",
    "\n",
    "We have that: $\\|\\hat{V} - V^*\\|_\\infty = \\max_{\\bar{s}}|\\hat{V}(\\bar{s}) - V^*(\\bar{s})|$. We can then apply the first simulation lemma and get: \n",
    "\n",
    "\\begin{align}\n",
    "\\\\\\|\\hat{V} - V^*\\|_\\infty &\\leq \\frac{1}{1-\\gamma}\\max_{s,a} \\left|\\mathbb{E}[R(s,a)] - \\hat{R}(s,a) + \\gamma \\sum_{s'}(P(s'|s,a) - \\hat{P}(s'|s,a)) V^*(s') \\right|\\\\\n",
    "&= \\frac{1}{1-\\gamma}\\max_{s,a} \\left| \\mathbb{E}[R(s,a)] - \\hat{R}(s,a) + \\gamma \\sum_{s'}P(s'|s,a)V^*(s') - \\gamma \\sum_{s'}\\hat{P}(s'|s,a) V^*(s') \\right|\\\\\n",
    "&\\leq \\frac{1}{1-\\gamma}\\max_{s,a} \\left|\\mathbb{E}[R(s,a)] - \\hat{R}(s,a) + \\gamma \\mathbb{E}[V^*(s')]_{s'\\sim P(\\cdot|s,a)} - \\gamma \\sum_{s'}\\hat{P}(s'|s,a) V^*(s') \\right|\n",
    "\\end{align}\n",
    "We then observe that:\n",
    "$$\\sum_{s'}\\hat{P}(s'|s,a) V^*(s') = \\frac{1}{N}\\sum_{s'}\\sum_{i=1}^N \\mathbb{1}_{(s'_i=s')}V^*(s') = \\frac{1}{N}\\sum_{i=1}^NV^*(s'_i)$$ The two sums simplify as the only non-zero terms would be those whose $s' = s'_i$. We re-input this result in the previous inequality and get:\n",
    "\\begin{align}\n",
    "&= \\frac{1}{1-\\gamma}\\max_{s,a} \\left|\\mathbb{E}[R(s,a)] - \\hat{R}(s,a) + \\gamma \\mathbb{E}[V^*(s')]_{s'\\sim P(\\cdot|s,a)} - \\frac{\\gamma}{N}\\sum_{i=1}^NV^*(s'_i) \\right|\\\\\n",
    "&= \\frac{1}{1-\\gamma}\\max_{s,a} \\left|\\mathbb{E}[R(s,a) + \\gamma V^*(s')]_{s'\\sim P(\\cdot|s,a)} - \\hat{R}(s,a)  - \\frac{\\gamma}{N}\\sum_{i=1}^NV^*(s'_i) \\right|\\\\\n",
    "&\\leq \\frac{1}{1-\\gamma}\\frac{1}{N}\\sum_i \\left|\\mathbb{E}[R(s_i,a_i) + \\gamma V^*(s')]_{s'\\sim P(\\cdot|s_i,a_i)} - \\hat{R}(s_i,a_i) - \\frac{\\gamma}{N}\\sum_{j=1}^NV^*(s'_j)  \\right| \\tag{1}\n",
    "\\end{align}\n",
    "\n",
    "Let $\\bar{X_i}$ be an i.i.d random variable such that: $$\\bar{X_i}= \\hat{R}(s_i,a_i) + \\frac{\\gamma}{N}\\sum_{j=1}^NV^*(s'_j)$$ then equation (1) would be equal to: $$\\frac{1}{1-\\gamma}\\frac{1}{N} \\sum_{i} \\left| \\mathbb{E}[\\bar{X_i}] - \\bar{X_i} \\right|$$\n",
    "\n",
    "We can now calculate $\\mathbb{P}[\\|\\hat{V} - V^*\\|_{\\infty} > ɛ]$ for any $ɛ>0$: \n",
    "\\begin{align}\n",
    "\\mathbb{P}[\\|\\hat{V} - V^*\\|_{\\infty} > ɛ] \\leq \\frac{1}{1-\\gamma}\\frac{1}{N} \\sum_{i} \\mathbb{P}\\left[\\left|\\mathbb{E}[\\bar{X_i}] - \\bar{X_i} \\right| > ɛ\\right]\n",
    "\\tag{2}\n",
    "\\end{align}\n",
    "Since $\\bar{X_i}$ are i.i.d then for all $i$, $\\mathbb{P}[\\bar{X_i}] = \\mathbb{P}[\\bar{X_0}]$. Hence (2) becomes (3) at which point we apply the Hoeffding's inequality to get the bound (4)\n",
    "\\begin{align}\n",
    "\\mathbb{P}[\\|\\hat{V} - V^*\\|_{\\infty} > ɛ] \\leq \\frac{1}{1-\\gamma}\\frac{1}{N} N \\mathbb{P}\\left[\\left|\\mathbb{E}[\\bar{X_0}] - \\bar{X_0} \\right| > ɛ\\right] \\tag{3}\\\\\n",
    "\\mathbb{P}[\\|\\hat{V} - V^*\\|_{\\infty} > ɛ] \\leq \\frac{1}{1-\\gamma} 2e^{-\\frac{2N\\varepsilon^2}{b^2}}\\tag{4}\n",
    "\\end{align}\n",
    "Now let us compute exactly $b$ and $\\varepsilon$. We defined $b$ as the range of $\\bar{X}$ then we are told that $R \\in [0, 1]$ hence we only have to compute the bound on $V^*$. \n",
    "\\begin{equation}\n",
    "V^* = \\mathbb{E}[\\sum_t \\gamma^t r(s, \\pi^*(s)) ] \\in \\left[0, \\frac{1}{1 - \\gamma}\\right]\n",
    "\\end{equation}\n",
    "Hence we get that\n",
    "\\begin{equation}\n",
    "b = 1 + \\frac{\\gamma}{1 - \\gamma} = \\frac{1}{1 - \\gamma}\n",
    "\\end{equation}\n",
    "Hence if we want an upper bound that holds with probability at least $1 - \\delta$ we have to find $\\varepsilon$ such that\n",
    "\\begin{equation}\n",
    "\\delta = \\frac{2}{1 - \\gamma} e^{-2 N \\varepsilon^2(1 - \\gamma)^2} \\Rightarrow \\varepsilon = \\sqrt{\\frac{\\log\\left(\\frac{2}{\\delta(1 - \\gamma)}\\right)}{2 N (1 - \\gamma)^2}}\n",
    "\\end{equation} "
   ]
  },
  {
   "cell_type": "markdown",
   "metadata": {
    "id": "tpqwCBG2MwxO"
   },
   "source": [
    "\n",
    "## Question 2.3\n",
    "\n",
    "Suppose once again that we are given a dataset of $N$ samples in the form of tuples $(s_i,a_i,s_i',r_i)$. We know that each tuple contains a valid transition from the true MDP, i.e., $s_i' \\sim P(\\cdot | s_i, a_i)$ and $r_i \\sim R(s_i,a_i)$, while the state-action pairs $(s_i,a_i)$ from which the transition started can be arbitrary.\n",
    "\n",
    "Suppose we want to apply Q-learning to this MDP. Can you think of a way to leverage this offline data to improve the sample-efficiency of the algorithm? What if we were using SARSA instead?"
   ]
  },
  {
   "cell_type": "markdown",
   "metadata": {
    "id": "mbYTKetHOYU_"
   },
   "source": [
    "### **Answer**\n",
    "\n",
    "Q-learning is an off-policy learning and as such needs to learn the target policy based on arbitrary samples. However it can be that certain samples are not as important as others. Hence in order to improve sampling-efficiency we have to filter the samples that are related to the target policy. One way to do so is using importance sampling.\n",
    "\n",
    "On the other hand SARSA is an on-policy learning and hence we cannot adapt the samples on which it trains.\n"
   ]
  },
  {
   "cell_type": "markdown",
   "metadata": {
    "id": "542QxKsSOs21"
   },
   "source": [
    "# Part 3 - RL with Function Approximation"
   ]
  },
  {
   "cell_type": "markdown",
   "metadata": {
    "id": "OiGZBiJ4PiIE"
   },
   "source": [
    "## Question 3.1\n",
    "\n",
    "Given a datset $(s_i, a_i, r_i, s_i')$ of (states, actions, rewards, next states), the Fitted Q-Iteration (FQI) algorithm proceeds as follows:\n",
    "\n",
    "\n",
    "* We start from a $Q$ function $Q_0 \\in \\mathcal{F}$, where $\\mathcal{F}$ is a function space;\n",
    "* At every iteration $k$, we compute $Q_{k+1}$ as:\n",
    "\n",
    "$$\n",
    "Q_{k+1}\\in\\arg\\min_{f\\in\\mathcal{F}} \\frac{1}{2}\\sum_{i=1}^N\n",
    "\\left(\n",
    "  f(s_i, a_i) - y_i^k\n",
    "\\right)^2 + \\lambda \\Omega(f)\n",
    "$$\n",
    "where $y_i^k = r_i + \\gamma \\max_{a'}Q_k(s_i', a')$, $\\Omega(f)$ is a regularization term and $\\lambda > 0$ is the regularization coefficient.\n",
    "\n",
    "\n",
    "Consider FQI with *linear* function approximation. That is, for a given feature map $\\phi : S \\rightarrow \\mathbb{R}^d$, we consider a parametric family of $Q$ functions $Q_\\theta(s,a) = \\phi(s)^T\\theta_a$ for $\\theta_a\\in\\mathbb{R}^d$. Suppose we are applying FQI on a given dataset of $N$ tuples of the form $(s_i, a_i, r_i, s_i')$ and we are at the $k$-th iteration. Let $\\theta_k \\in\\mathbb{R}^{d \\times A}$ be our current parameter. Derive the *closed-form* update to find $\\theta_{k+1}$, using $\\frac{1}{2}\\sum_a ||\\theta_a||_2^2$ as regularization."
   ]
  },
  {
   "cell_type": "markdown",
   "metadata": {
    "id": "7jx7aE41DkEM"
   },
   "source": [
    "### **Answer**\n",
    "\n",
    "Let us clarify certain notations. By definition $f(s,a) = \\phi(s)^T\\theta_a$ and $\\Omega(f) = \\frac{1}{2} \\sum_a \\|\\theta_a\\|_2^2$. The problem then transforms to minimizing the $\\mathcal{L}$ function defined below w.t.r to $\\theta_a$ for any $a$.\n",
    "\\begin{align}\n",
    "\\mathcal{L} &=  \\frac{1}{2}\\sum_{i=1}^N(\\phi(s_i)^T\\theta_{a_i} - y_i^k)^2 + λ\\frac{1}{2}\\sum_{a}\\|\\theta_a\\|_2^2\n",
    "\\end{align}\n",
    "We compute the $\\nabla_{\\theta_a} \\mathcal{L} = 0$.\n",
    "\\begin{align}\n",
    "\\nabla_{\\theta_a} \\mathcal{L} &= \\frac{1}{2} \\sum_{i=1, \\,a_i=a} 2(\\phi(s_i)^T\\theta_a - y_i^k)\\phi(s_i)^T + \\lambda\\frac{1}{2}2\\theta_a^T\\\\\n",
    "0 &=  \\sum_{i=1, \\,a_i=a} (\\phi(s_i)^T\\theta_a\\phi(s_i)^T - y_i^k\\phi(s_i)^T) + \\lambda\\theta_a^T\\\\\n",
    "\\end{align}\n",
    "Now notice that $\\phi(s_i)^T \\theta_a$ is a scalar and hence $\\phi(s_i)^T \\theta_a = \\theta_a^T \\phi(s_i)$ which when we replace it in the previous equation we get \n",
    "\\begin{align}\n",
    "0 &= \\sum_{i=1, \\,a_i=a} \\theta_a^T\\phi(s_i)\\phi(s_i)^T - \\sum_{i=1, \\,a_i=a}y_i^k\\phi(s_i)^T + \\lambda\\theta_a^T\\\\\n",
    "\\sum_{i=1, \\,a_i=a}y_i^k\\phi(s_i)^T &= \\sum_{i=1, \\,a_i=a} \\theta_a^T\\phi(s_i)\\phi(s_i)^T + \\lambda\\theta_a^T\\\\\n",
    "\\sum_{i=1, \\,a_i=a}y_i^k\\phi(s_i)^T &= \\theta_a^T(\\sum_{i=1, \\,a_i=a} \\phi(s_i)\\phi(s_i)^T + \\lambda I_d)\n",
    "\\end{align} \n",
    "We can take the transpose of the expression to have nicer results, and obtain the closed form for $\\theta_a$:\n",
    "\\begin{align}\n",
    "\\sum_{i=1, \\,a_i=a}y_i^k\\phi(s_i) &= \\left(\\sum_{i=1, \\,a_i=a} \\phi(s_i)\\phi(s_i)^T + \\lambda I_d\\right)\\theta_a\\\\\n",
    "\\theta_a &= \\left(\\sum_{i=1, \\,a_i=a} \\phi(s_i)\\phi(s_i)^T + \\lambda I_d\\right)^{-1}\\sum_{i=1, \\,a_i=a}y_i^k\\phi(s_i)\n",
    "\\end{align}\n",
    "Hence we can find all $\\theta_a \\in \\theta_{k+1}$ as a function of the $\\theta'_a \\in \\theta_k$ which are hidden in $y_i^k$."
   ]
  },
  {
   "cell_type": "markdown",
   "metadata": {
    "id": "ewHzjm7MVGBg"
   },
   "source": [
    "## Question 3.2\n",
    "\n",
    "The code below creates a larger gridworld (with more states than the one used in the previous questions), and defines a feature map. Implement linear FQI to this environment (in the function `linear_fqi()` below), and compare the approximated $Q$ function to the optimal $Q$ function computed with value iteration.\n",
    "\n",
    "Can you improve the feature map in order to reduce the approximation error?"
   ]
  },
  {
   "cell_type": "markdown",
   "metadata": {
    "id": "Tu4g-HSnEcBs"
   },
   "source": [
    "### **Answer**\n",
    "\n",
    "I tried to reduce the approximation error by augmenting the dimensions of the function space and also augmenting the penalty term."
   ]
  },
  {
   "cell_type": "code",
   "execution_count": 103,
   "metadata": {
    "id": "ZovF3VXOVfCs"
   },
   "outputs": [],
   "source": [
    "def get_large_gridworld():\n",
    "  \"\"\"Creates an instance of a grid-world MDP with more states.\"\"\"\n",
    "  walls = [(ii, 10) for ii in range(15) if (ii != 7 and ii != 8)]\n",
    "  env = GridWorld(\n",
    "      nrows=15,\n",
    "      ncols=15,\n",
    "      reward_at = {(14, 14):1.0},\n",
    "      walls=tuple(walls),\n",
    "      success_probability=0.9,\n",
    "      terminal_states=((14, 14),)\n",
    "  )\n",
    "  return env\n",
    "\n",
    "\n",
    "class GridWorldFeatureMap:\n",
    "  \"\"\"Create features for state-action pairs\n",
    "  \n",
    "  Args:\n",
    "    dim: int\n",
    "      Feature dimension\n",
    "    sigma: float\n",
    "      RBF kernel bandwidth\n",
    "  \"\"\"\n",
    "  def __init__(self, env, dim=15, sigma=0.25):\n",
    "    self.index2coord = env.index2coord\n",
    "    self.n_states = env.Ns\n",
    "    self.n_actions = env.Na\n",
    "    self.dim = dim\n",
    "    self.sigma = sigma\n",
    "\n",
    "    n_rows = env.nrows\n",
    "    n_cols = env.ncols\n",
    "\n",
    "    # build similarity matrix\n",
    "    sim_matrix = np.zeros((self.n_states, self.n_states))\n",
    "    for ii in range(self.n_states):\n",
    "        row_ii, col_ii = self.index2coord[ii]\n",
    "        x_ii = row_ii / n_rows\n",
    "        y_ii = col_ii / n_cols\n",
    "        for jj in range(self.n_states):\n",
    "            row_jj, col_jj = self.index2coord[jj]\n",
    "            x_jj = row_jj / n_rows\n",
    "            y_jj = col_jj / n_cols\n",
    "            dist = np.sqrt((x_jj - x_ii) ** 2.0 + (y_jj - y_ii) ** 2.0)\n",
    "            sim_matrix[ii, jj] = np.exp(-(dist / sigma) ** 2.0)\n",
    "\n",
    "    # factorize similarity matrix to obtain features\n",
    "    uu, ss, vh = np.linalg.svd(sim_matrix, hermitian=True)\n",
    "    self.feats = vh[:dim, :]\n",
    "\n",
    "  def map(self, observation):\n",
    "    feat = self.feats[:, observation].copy()\n",
    "    return feat"
   ]
  },
  {
   "cell_type": "code",
   "execution_count": 104,
   "metadata": {
    "colab": {
     "base_uri": "https://localhost:8080/",
     "height": 513
    },
    "id": "InCfu7F9-TbS",
    "outputId": "ccba0c83-0619-4a91-e9db-3d299e7a9cea"
   },
   "outputs": [
    {
     "data": {
      "text/html": [
       "<video alt=\"videos/gw.mp4\" autoplay\n",
       "                      loop controls style=\"height: 400px;\">\n",
       "                    <source src=\"data:video/mp4;base64,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\" type=\"video/mp4\" />\n",
       "                 </video>"
      ],
      "text/plain": [
       "<IPython.core.display.HTML object>"
      ]
     },
     "metadata": {},
     "output_type": "display_data"
    },
    {
     "name": "stdout",
     "output_type": "stream",
     "text": [
      "[-0.02850699  0.063555   -0.02169407 -0.06441918  0.04505794 -0.07537777\n",
      "  0.08506473 -0.09325287  0.09644275 -0.00535101  0.11632395 -0.13074085\n",
      "  0.00921342 -0.13853662  0.07118419]\n",
      "(15, 4)\n",
      "[0. 0. 0. 0.]\n"
     ]
    }
   ],
   "source": [
    "env = get_large_gridworld()\n",
    "feat_map = GridWorldFeatureMap(env)\n",
    "\n",
    "# Visualize large gridworld\n",
    "render_policy(env)\n",
    "\n",
    "# The features have dimension (feature_dim).\n",
    "feature_example = feat_map.map(1) # feature representation of s=1\n",
    "print(feature_example)\n",
    "\n",
    "# Initial vector theta representing the Q function\n",
    "theta = np.zeros((feat_map.dim, env.action_space.n))\n",
    "print(theta.shape)\n",
    "print(feature_example @ theta) # approximation of Q(s=1, a)"
   ]
  },
  {
   "cell_type": "code",
   "execution_count": 105,
   "metadata": {
    "colab": {
     "base_uri": "https://localhost:8080/",
     "height": 669
    },
    "id": "p21KMmruugO1",
    "outputId": "782e32ca-c2de-4688-93be-6d43fa262356"
   },
   "outputs": [
    {
     "data": {
      "text/html": [
       "<video alt=\"videos/gw.mp4\" autoplay\n",
       "                      loop controls style=\"height: 400px;\">\n",
       "                    <source src=\"data:video/mp4;base64,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\" type=\"video/mp4\" />\n",
       "                 </video>"
      ],
      "text/plain": [
       "<IPython.core.display.HTML object>"
      ]
     },
     "metadata": {},
     "output_type": "display_data"
    },
    {
     "data": {
      "image/png": "[encoded data removed]",
      "text/plain": [
       "<Figure size 432x288 with 1 Axes>"
      ]
     },
     "metadata": {
      "needs_background": "light"
     },
     "output_type": "display_data"
    }
   ],
   "source": [
    "def linear_fqi(env, feat_map, num_iterations, lambd=0.1, gamma=0.95):\n",
    "  \"\"\"\n",
    "  # Linear FQI implementation\n",
    "  # TO BE COMPLETED\n",
    "  \"\"\"\n",
    "\n",
    "  # get a dataset\n",
    "  #    dataset = get_uniform_dataset(env, n_samples=...)\n",
    "  # OR dataset = get_random_policy_dataset(env, n_samples=...)\n",
    "\n",
    "  dataset = get_random_policy_dataset(env, n_samples = 10000)\n",
    "  samples, actions, rewards, next_samples = dataset\n",
    "\n",
    "  pos = {}\n",
    "  for i in range(env.Na):\n",
    "    pos[i] = np.where(actions == i)\n",
    "\n",
    "  theta = np.zeros((feat_map.dim, env.Na))\n",
    "\n",
    "  for it in range(num_iterations):\n",
    "    for i in range(env.Na):\n",
    "      phi = np.array([feat_map.map(samples[j]) for j in pos[i]])\n",
    "      phi = np.squeeze(phi)\n",
    "      yk = rewards[pos[i]] + gamma * np.max( feat_map.map(next_samples[pos[i]]).T @ theta, axis = 1) \n",
    "      theta[:, i] = np.linalg.inv(phi @ phi.T + lambd) @ np.sum(yk * phi, axis = 1)\n",
    "  \n",
    "  return theta\n",
    "\n",
    "# ----------------------------\n",
    "# Environment and feature map\n",
    "# ----------------------------\n",
    "env = get_large_gridworld()\n",
    "# you can change the parameters of the feature map, and even try other maps!\n",
    "feat_map = GridWorldFeatureMap(env, dim=100, sigma=0.25)\n",
    "\n",
    "# -------\n",
    "# Run FQI\n",
    "# -------\n",
    "theta = linear_fqi(env, feat_map, num_iterations=100, lambd=1)\n",
    "\n",
    "# Compute and run greedy policy\n",
    "Q_fqi = np.zeros((env.Ns, env.Na))\n",
    "for ss in range(env.Ns):\n",
    "  state_feat = feat_map.map(ss)\n",
    "  Q_fqi[ss, :] = state_feat @ theta\n",
    "\n",
    "V_fqi = Q_fqi.max(axis=1)\n",
    "policy_fqi = Q_fqi.argmax(axis=1)\n",
    "render_policy(env, policy_fqi, horizon=100)\n",
    "\n",
    "# Visualize the approximate value function in the gridworld.\n",
    "img = env.get_layout_img(V_fqi)    \n",
    "plt.imshow(img)\n",
    "plt.show()"
   ]
  },
  {
   "cell_type": "code",
   "execution_count": 106,
   "metadata": {
    "id": "GH2W_uQVHfkX"
   },
   "outputs": [],
   "source": [
    "Q, policy, Qfs = value_iteration(env.P, env.R, gamma = 0.95)"
   ]
  },
  {
   "cell_type": "code",
   "execution_count": 107,
   "metadata": {
    "colab": {
     "base_uri": "https://localhost:8080/",
     "height": 669
    },
    "id": "GoW13m0MK1sG",
    "outputId": "d31fb44b-ea3f-4d48-849e-5e30e162d9fc"
   },
   "outputs": [
    {
     "data": {
      "text/html": [
       "<video alt=\"videos/gw.mp4\" autoplay\n",
       "                      loop controls style=\"height: 400px;\">\n",
       "                    <source src=\"data:video/mp4;base64,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\" type=\"video/mp4\" />\n",
       "                 </video>"
      ],
      "text/plain": [
       "<IPython.core.display.HTML object>"
      ]
     },
     "metadata": {},
     "output_type": "display_data"
    },
    {
     "data": {
      "image/png": "[encoded data removed]",
      "text/plain": [
       "<Figure size 432x288 with 1 Axes>"
      ]
     },
     "metadata": {
      "needs_background": "light"
     },
     "output_type": "display_data"
    }
   ],
   "source": [
    "V = Q.max(axis=1)\n",
    "render_policy(env, policy_fqi, horizon=100)\n",
    "\n",
    "# Visualize the approximate value function in the gridworld.\n",
    "img = env.get_layout_img(V)    \n",
    "plt.imshow(img)\n",
    "plt.show()"
   ]
  },
  {
   "cell_type": "code",
   "execution_count": 108,
   "metadata": {
    "colab": {
     "base_uri": "https://localhost:8080/",
     "height": 265
    },
    "id": "JVRZn8SiLG62",
    "outputId": "ecf5ba4a-ddd1-4855-9317-5df3c3b873c6"
   },
   "outputs": [
    {
     "data": {
      "image/png": "[encoded data removed]",
      "text/plain": [
       "<Figure size 432x288 with 1 Axes>"
      ]
     },
     "metadata": {
      "needs_background": "light"
     },
     "output_type": "display_data"
    }
   ],
   "source": [
    "errors = [np.linalg.norm(Q_fqi - Qi) for Qi in Qfs]\n",
    "\n",
    "plt.plot(errors)\n",
    "plt.show()"
   ]
  },
  {
   "cell_type": "code",
   "execution_count": null,
   "metadata": {
    "id": "SOPoPB25Mey6"
   },
   "outputs": [],
   "source": []
  }
 ],
 "metadata": {
  "colab": {
   "collapsed_sections": [],
   "name": "HW1-DERVISHI_Megi.ipynb",
   "provenance": []
  },
  "kernelspec": {
   "display_name": "Python 3",
   "language": "python",
   "name": "python3"
  },
  "language_info": {
   "codemirror_mode": {
    "name": "ipython",
    "version": 3
   },
   "file_extension": ".py",
   "mimetype": "text/x-python",
   "name": "python",
   "nbconvert_exporter": "python",
   "pygments_lexer": "ipython3",
   "version": "3.8.8"
  }
 },
 "nbformat": 4,
 "nbformat_minor": 4
}
