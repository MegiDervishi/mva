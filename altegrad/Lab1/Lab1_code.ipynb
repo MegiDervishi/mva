{
  "nbformat": 4,
  "nbformat_minor": 0,
  "metadata": {
    "colab": {
      "name": "ALTEGRAD_2021_Lab1_HAN_Handout.ipynb",
      "provenance": [],
      "collapsed_sections": []
    },
    "kernelspec": {
      "display_name": "Python 3",
      "name": "python3"
    },
    "language_info": {
      "codemirror_mode": {
        "name": "ipython",
        "version": 3
      },
      "file_extension": ".py",
      "mimetype": "text/x-python",
      "name": "python",
      "nbconvert_exporter": "python",
      "pygments_lexer": "ipython3",
      "version": "3.6.13"
    }
  },
  "cells": [
    {
      "cell_type": "markdown",
      "metadata": {
        "id": "MuVouapRmjEW"
      },
      "source": [
        "<center><h2>ALTeGraD 2021<br>Lab Session 1: HAN</h2><h3>Hierarchical Attention Network Using GRU</h3> 09 / 11 / 2021<br> M. Kamal Eddine, H. Abdine</center>\n",
        "\n",
        "\n"
      ]
    },
    {
      "cell_type": "code",
      "metadata": {
        "id": "ogg6hkhFW8Jz",
        "colab": {
          "base_uri": "https://localhost:8080/"
        },
        "outputId": "63aea6ef-8e03-429d-903d-b90a454c3234"
      },
      "source": [
        "# In case you are using google colab:\n",
        "# uncomment the following two lines: \n",
        "\n",
        "%tensorflow_version 1.9\n",
        "!pip install keras==2.2.5\n",
        "\n",
        "!wget -c \"https://onedrive.live.com/download?cid=AE69638675180117&resid=AE69638675180117%2199289&authkey=AHgxt3xmgG0Fu5A\" -O \"data.zip\"\n",
        "!unzip data.zip"
      ],
      "execution_count": 156,
      "outputs": [
        {
          "output_type": "stream",
          "name": "stdout",
          "text": [
            "`%tensorflow_version` only switches the major version: 1.x or 2.x.\n",
            "You set: `1.9`. This will be interpreted as: `1.x`.\n",
            "\n",
            "\n",
            "TensorFlow is already loaded. Please restart the runtime to change versions.\n",
            "Requirement already satisfied: keras==2.2.5 in /usr/local/lib/python3.7/dist-packages (2.2.5)\n",
            "Requirement already satisfied: scipy>=0.14 in /usr/local/lib/python3.7/dist-packages (from keras==2.2.5) (1.4.1)\n",
            "Requirement already satisfied: pyyaml in /usr/local/lib/python3.7/dist-packages (from keras==2.2.5) (3.13)\n",
            "Requirement already satisfied: numpy>=1.9.1 in /usr/local/lib/python3.7/dist-packages (from keras==2.2.5) (1.19.5)\n",
            "Requirement already satisfied: keras-applications>=1.0.8 in /tensorflow-1.15.2/python3.7 (from keras==2.2.5) (1.0.8)\n",
            "Requirement already satisfied: six>=1.9.0 in /usr/local/lib/python3.7/dist-packages (from keras==2.2.5) (1.15.0)\n",
            "Requirement already satisfied: h5py in /usr/local/lib/python3.7/dist-packages (from keras==2.2.5) (3.1.0)\n",
            "Requirement already satisfied: keras-preprocessing>=1.1.0 in /usr/local/lib/python3.7/dist-packages (from keras==2.2.5) (1.1.2)\n",
            "Requirement already satisfied: cached-property in /usr/local/lib/python3.7/dist-packages (from h5py->keras==2.2.5) (1.5.2)\n",
            "--2021-11-16 19:11:57--  https://onedrive.live.com/download?cid=AE69638675180117&resid=AE69638675180117%2199289&authkey=AHgxt3xmgG0Fu5A\n",
            "Resolving onedrive.live.com (onedrive.live.com)... 13.107.43.13\n",
            "Connecting to onedrive.live.com (onedrive.live.com)|13.107.43.13|:443... connected.\n",
            "HTTP request sent, awaiting response... 302 Found\n",
            "Location: https://vqtlqw.am.files.1drv.com/y4m04awDZZ68KFos1FsPvDbhb5rkgowfzZcdOXuDkjQwqFc94mkdvirX8MW6CQ97QSP2Dkyl0MPbog0Bcy0mEXQqhZ3HPXuvb4JIGn9ZBx6mno6aBAZfWU6T7MZcA8D9ptlfl3kqXacodTJ5rai-75TKLdPzey44k6rJvLvnBo45YJJgWSxiVqGWcngHiydid2RIVGiJxnIiFQNVfLlyEpkDg/data.zip?download&psid=1 [following]\n",
            "--2021-11-16 19:11:58--  https://vqtlqw.am.files.1drv.com/y4m04awDZZ68KFos1FsPvDbhb5rkgowfzZcdOXuDkjQwqFc94mkdvirX8MW6CQ97QSP2Dkyl0MPbog0Bcy0mEXQqhZ3HPXuvb4JIGn9ZBx6mno6aBAZfWU6T7MZcA8D9ptlfl3kqXacodTJ5rai-75TKLdPzey44k6rJvLvnBo45YJJgWSxiVqGWcngHiydid2RIVGiJxnIiFQNVfLlyEpkDg/data.zip?download&psid=1\n",
            "Resolving vqtlqw.am.files.1drv.com (vqtlqw.am.files.1drv.com)... 13.107.43.12\n",
            "Connecting to vqtlqw.am.files.1drv.com (vqtlqw.am.files.1drv.com)|13.107.43.12|:443... connected.\n",
            "HTTP request sent, awaiting response... 416 Requested Range Not Satisfiable\n",
            "\n",
            "    The file is already fully retrieved; nothing to do.\n",
            "\n",
            "Archive:  data.zip\n",
            "replace __MACOSX/._data? [y]es, [n]o, [A]ll, [N]one, [r]ename: A\n",
            "  inflating: __MACOSX/._data         \n",
            "  inflating: data/labels_train.npy   \n",
            "  inflating: __MACOSX/data/._labels_train.npy  \n",
            "  inflating: data/docs_test.npy      \n",
            "  inflating: __MACOSX/data/._docs_test.npy  \n",
            "  inflating: data/labels_test.npy    \n",
            "  inflating: __MACOSX/data/._labels_test.npy  \n",
            "  inflating: data/word_to_index.json  \n",
            "  inflating: __MACOSX/data/._word_to_index.json  \n",
            "  inflating: data/docs_train.npy     \n",
            "  inflating: __MACOSX/data/._docs_train.npy  \n"
          ]
        }
      ]
    },
    {
      "cell_type": "markdown",
      "metadata": {
        "id": "xJaSJaIP1xRy"
      },
      "source": [
        "# = = = = = Attention Layer = = = = ="
      ]
    },
    {
      "cell_type": "code",
      "metadata": {
        "id": "MeXk--0rncj4"
      },
      "source": [
        "def dot_product(x, kernel):\n",
        "    \"\"\"\n",
        "    https://github.com/richliao/textClassifier/issues/13#issuecomment-377323318\n",
        "    Wrapper for dot product operation, in order to be compatible with both\n",
        "    Theano and Tensorflow\n",
        "    Args:\n",
        "        x (): input\n",
        "        kernel (): weights\n",
        "    Returns:\n",
        "    \"\"\"\n",
        "    if K.backend() == 'tensorflow':\n",
        "        return K.squeeze(K.dot(x, K.expand_dims(kernel)), axis=-1)\n",
        "    else:\n",
        "        return K.dot(x, kernel)"
      ],
      "execution_count": 157,
      "outputs": []
    },
    {
      "cell_type": "code",
      "metadata": {
        "id": "yoM7H0KQncpF"
      },
      "source": [
        "import keras.backend as K\n",
        "from keras.layers import Layer as Layer\n",
        "from keras import initializers, regularizers, constraints\n",
        "\n",
        "class AttentionWithContext(Layer):\n",
        "    \"\"\"\n",
        "    Follows the work of Yang et al. [https://www.cs.cmu.edu/~diyiy/docs/naacl16.pdf]\n",
        "    \"Hierarchical Attention Networks for Document Classification\"\n",
        "    by using a context vector to assist the attention\n",
        "    # Input shape\n",
        "        3D tensor with shape: `(samples, steps, features)`.\n",
        "    # Output shape\n",
        "        2D tensor with shape: `(samples, features)`.\n",
        "    \n",
        "    How to use:\n",
        "    Just put it on top of an RNN Layer (GRU/LSTM/SimpleRNN) with return_sequences=True.\n",
        "    The dimensions are inferred based on the output shape of the RNN.\n",
        "    \n",
        "    Example:\n",
        "        model.add(LSTM(64, return_sequences=True))\n",
        "        model.add(AttentionWithContext())\n",
        "        # next add a Dense layer (for classification/regression) or whatever...\n",
        "    \"\"\"\n",
        "    \n",
        "    def __init__(self, return_coefficients=False,\n",
        "                 W_regularizer=None, u_regularizer=None, b_regularizer=None,\n",
        "                 W_constraint=None, u_constraint=None, b_constraint=None,\n",
        "                 bias=True, **kwargs):\n",
        "        self.supports_masking = True\n",
        "        self.return_coefficients = return_coefficients\n",
        "        self.init = initializers.get('glorot_uniform')\n",
        "        \n",
        "        self.W_regularizer = regularizers.get(W_regularizer)\n",
        "        self.u_regularizer = regularizers.get(u_regularizer)\n",
        "        self.b_regularizer = regularizers.get(b_regularizer)\n",
        "        \n",
        "        self.W_constraint = constraints.get(W_constraint)\n",
        "        self.u_constraint = constraints.get(u_constraint)\n",
        "        self.b_constraint = constraints.get(b_constraint)\n",
        "        \n",
        "        self.bias = bias\n",
        "        super(AttentionWithContext, self).__init__(**kwargs)\n",
        "    \n",
        "    def build(self, input_shape):\n",
        "        assert len(input_shape) == 3\n",
        "        \n",
        "        self.W = self.add_weight((input_shape[-1], input_shape[-1],),\n",
        "                                 initializer=self.init,\n",
        "                                 name='{}_W'.format(self.name),\n",
        "                                 regularizer=self.W_regularizer,\n",
        "                                 constraint=self.W_constraint)\n",
        "        if self.bias:\n",
        "            self.b = self.add_weight((input_shape[-1],),\n",
        "                                     initializer='zero',\n",
        "                                     name='{}_b'.format(self.name),\n",
        "                                     regularizer=self.b_regularizer,\n",
        "                                     constraint=self.b_constraint)\n",
        "        \n",
        "        self.u = self.add_weight((input_shape[-1],),\n",
        "                                 initializer=self.init,\n",
        "                                 name='{}_u'.format(self.name),\n",
        "                                 regularizer=self.u_regularizer,\n",
        "                                 constraint=self.u_constraint)\n",
        "        \n",
        "        super(AttentionWithContext, self).build(input_shape)\n",
        "    \n",
        "    def compute_mask(self, input, input_mask=None):\n",
        "        # do not pass the mask to the next layers\n",
        "        return None\n",
        "    \n",
        "    def call(self, x, mask=None):\n",
        "        uit = dot_product(x, self.W)\n",
        "        \n",
        "        if self.bias:\n",
        "            uit += self.b\n",
        "        \n",
        "        uit = K.tanh(uit)\n",
        "        ait = dot_product(uit, self.u)\n",
        "        \n",
        "        a = K.exp(ait)\n",
        "        \n",
        "        # apply mask after the exp. will be re-normalized next\n",
        "        if mask is not None:\n",
        "            # Cast the mask to floatX to avoid float64 upcasting in theano\n",
        "            a *= K.cast(mask, K.floatx())\n",
        "        \n",
        "        # in some cases especially in the early stages of training the sum may be almost zero\n",
        "        # and this results in NaN's. A workaround is to add a very small positive number ε to the sum.\n",
        "        # a /= K.cast(K.sum(a, axis=1, keepdims=True), K.floatx())\n",
        "        a /= K.cast(K.sum(a, axis=1, keepdims=True) + K.epsilon(), K.floatx())\n",
        "        \n",
        "        a = K.expand_dims(a)\n",
        "        weighted_input = a*x ### fill the gap ### # compute the attentional vector\n",
        "        \n",
        "        if self.return_coefficients:\n",
        "            return [K.sum(weighted_input, axis=1),a] ### fill the gap - [attentional vector, coefficients] ###\n",
        "        else:\n",
        "            return [K.sum(weighted_input)] ### fill the gap - attentional vector only ###\n",
        "    \n",
        "    \n",
        "    \n",
        "    def compute_output_shape(self, input_shape):\n",
        "        if self.return_coefficients:\n",
        "            return [(input_shape[0], input_shape[-1]), (input_shape[0], input_shape[-1], 1)]\n",
        "        else:\n",
        "            return input_shape[0], input_shape[-1]"
      ],
      "execution_count": 158,
      "outputs": []
    },
    {
      "cell_type": "markdown",
      "metadata": {
        "id": "AB-WOy4YHlsr"
      },
      "source": [
        "# = = = = = Bidirectional GRU = = = = =\n",
        "#### fill the gaps in the bidir_gru function below ###\n",
        "#### add a RNN-GRU layer and a bidirectional wrapper ###\n",
        "#### bidirectional: search for 'bidirectional' [here](https://keras.io/layers/wrappers/)\n",
        "#### GRU: search for 'GRU' [here](https://keras.io/layers/recurrent/)\n",
        "#### layers can be combined by nesting them as: layer_b(parameters_b)(layer_a(parameters_a)(input))"
      ]
    },
    {
      "cell_type": "code",
      "metadata": {
        "id": "qoFkuGwNncwy"
      },
      "source": [
        "from keras.layers import Bidirectional, GRU\n",
        "\n",
        "def bidir_gru(my_seq,n_units):\n",
        "    '''\n",
        "    just a convenient wrapper for bidirectional RNN with GRU units\n",
        "    '''\n",
        "    return Bidirectional(GRU(n_units,return_sequences=True,activation='tanh'), merge_mode=\"concat\")(my_seq)"
      ],
      "execution_count": 159,
      "outputs": []
    },
    {
      "cell_type": "markdown",
      "metadata": {
        "id": "DgTP6GrOHlss"
      },
      "source": [
        "# = = = = = Parameters = = = = ="
      ]
    },
    {
      "cell_type": "code",
      "metadata": {
        "id": "czsVjxgYnczb"
      },
      "source": [
        "import sys\n",
        "import json\n",
        "import operator\n",
        "import numpy as np\n",
        "\n",
        "path_root = ''\n",
        "path_to_data = path_root + 'data/'\n",
        "\n",
        "d = 30 # dimensionality of word embeddings\n",
        "n_units = 50 # RNN layer dimensionality\n",
        "drop_rate = 0.5 # dropout\n",
        "mfw_idx = 2 # index of the most frequent words in the dictionary \n",
        "            # 0 is for the special padding token\n",
        "            # 1 is for the special out-of-vocabulary token\n",
        "\n",
        "padding_idx = 0\n",
        "oov_idx = 1\n",
        "batch_size = 32\n",
        "nb_epochs = 6\n",
        "my_optimizer = 'adam'\n",
        "my_patience = 2 # for early stopping strategy"
      ],
      "execution_count": 160,
      "outputs": []
    },
    {
      "cell_type": "markdown",
      "metadata": {
        "id": "K8Vot_C7Hlst"
      },
      "source": [
        "# = = = = = Data Loading = = = = ="
      ]
    },
    {
      "cell_type": "code",
      "metadata": {
        "id": "UD6hRh0OHlst"
      },
      "source": [
        "my_docs_array_train = np.load(path_to_data + 'docs_train.npy')\n",
        "my_docs_array_test = np.load(path_to_data + 'docs_test.npy')\n",
        "\n",
        "my_labels_array_train = np.load(path_to_data + 'labels_train.npy')\n",
        "my_labels_array_test = np.load(path_to_data + 'labels_test.npy')\n",
        "\n",
        "# load dictionary of word indexes (sorted by decreasing frequency across the corpus)\n",
        "with open(path_to_data + 'word_to_index.json', 'r') as my_file:\n",
        "    word_to_index = json.load(my_file)\n",
        "\n",
        "# invert mapping\n",
        "index_to_word = dict((v,k) for k,v in word_to_index.items()) ### fill the gap (use a dict comprehension) ###"
      ],
      "execution_count": 161,
      "outputs": []
    },
    {
      "cell_type": "markdown",
      "metadata": {
        "id": "6rzqEGOdHlst"
      },
      "source": [
        "# = = = = = Defining Architecture = = = = ="
      ]
    },
    {
      "cell_type": "code",
      "metadata": {
        "id": "AMj9j1_pHlst",
        "colab": {
          "base_uri": "https://localhost:8080/"
        },
        "outputId": "4a6c9178-13fe-4601-f239-a7a220120a8d"
      },
      "source": [
        "from keras.models import Model\n",
        "from keras.layers import Input, Embedding, Dropout, TimeDistributed, Dense\n",
        "\n",
        "sent_ints = Input(shape=(my_docs_array_train.shape[2],)) # vec of ints of variable size\n",
        "\n",
        "sent_wv = Embedding(input_dim=len(index_to_word)+2, # vocab size\n",
        "                    output_dim=d, # dimensionality of embedding space\n",
        "                    input_length=my_docs_array_train.shape[2],\n",
        "                    trainable=True\n",
        "                    )(sent_ints)\n",
        "\n",
        "sent_wv_dr = Dropout(drop_rate)(sent_wv)\n",
        "sent_wa = bidir_gru(sent_wv_dr, n_units) ### fill the gap ### # get the annotations for each word in the sent\n",
        "sent_att_vec,word_att_coeffs = AttentionWithContext(return_coefficients=True)(sent_wa) ### fill the gap ### # get the attentional vector for the sentence\n",
        "sent_att_vec_dr = Dropout(drop_rate)(sent_att_vec)                      \n",
        "sent_encoder = Model(sent_ints,sent_att_vec_dr)\n",
        "\n",
        "doc_ints = Input(shape=(my_docs_array_train.shape[1],my_docs_array_train.shape[2],))\n",
        "sent_att_vecs_dr = TimeDistributed(sent_encoder)(doc_ints) ### fill the gap ### # apply the sentence encoder model to each sentence in the document. Search for 'TimeDistributed' in https://keras.io/layers/wrappers/\n",
        "doc_sa = bidir_gru(sent_att_vecs_dr,n_units) ### fill the gap ### # get annotations for each sent in the doc\n",
        "doc_att_vec,sent_att_coeffs = AttentionWithContext(return_coefficients=True)(doc_sa) ### fill the gap ### # get attentional vector for the doc\n",
        "doc_att_vec_dr = Dropout(drop_rate)(doc_att_vec)\n",
        "                  \n",
        "preds = Dense(units=1,\n",
        "              activation='sigmoid')(doc_att_vec_dr)\n",
        "model = Model(doc_ints,preds)\n",
        "\n",
        "model.compile(loss='binary_crossentropy',\n",
        "              optimizer = my_optimizer,\n",
        "              metrics = ['accuracy'])\n",
        "\n",
        "print('model compiled')"
      ],
      "execution_count": 162,
      "outputs": [
        {
          "output_type": "stream",
          "name": "stdout",
          "text": [
            "model compiled\n"
          ]
        }
      ]
    },
    {
      "cell_type": "markdown",
      "metadata": {
        "id": "sgreR5AcHlst"
      },
      "source": [
        "# = = = = = Training = = = = ="
      ]
    },
    {
      "cell_type": "code",
      "metadata": {
        "id": "rbW_vheGHlst",
        "colab": {
          "base_uri": "https://localhost:8080/"
        },
        "outputId": "a7e6d21d-d05e-4392-fd59-5b34011e8552"
      },
      "source": [
        "from keras.callbacks import EarlyStopping, ModelCheckpoint\n",
        "\n",
        "loading_pretrained = False\n",
        "\n",
        "if not loading_pretrained:\n",
        "    early_stopping = EarlyStopping(monitor='val_acc',\n",
        "                                   patience=my_patience,\n",
        "                                   mode='max')\n",
        "    \n",
        "    # save model corresponding to best epoch\n",
        "    checkpointer = ModelCheckpoint(filepath=path_to_data + 'model', \n",
        "                                   verbose=1, \n",
        "                                   save_best_only=True,\n",
        "                                   save_weights_only=True)\n",
        "    \n",
        "    # 200s/epoch on CPU - reaches 84.38% accuracy in 2 epochs\n",
        "    ### fill the gap ### # call the .fit() method on your model with the arguments: my_docs_array_train, my_labels_array_train, batch_size, nb_epochs, my_docs_array_test, my_labels_array_test, early_stopping\n",
        "    # look at: https://keras.io/models/sequential/#fit\n",
        "    model.fit(\n",
        "        x = my_docs_array_train, \n",
        "        y = my_labels_array_train, \n",
        "        batch_size= batch_size, \n",
        "        epochs = nb_epochs, \n",
        "        callbacks = [early_stopping], \n",
        "        validation_data=(my_docs_array_test, my_labels_array_test)) # checkpointer\n",
        "\n",
        "else:\n",
        "    model.load_weights(path_to_data + 'model')"
      ],
      "execution_count": 163,
      "outputs": [
        {
          "output_type": "stream",
          "name": "stdout",
          "text": [
            "Train on 25000 samples, validate on 25000 samples\n",
            "Epoch 1/6\n",
            "25000/25000 [==============================] - 117s 5ms/step - loss: 0.4547 - acc: 0.7682 - val_loss: 0.3580 - val_acc: 0.8419\n",
            "Epoch 2/6\n",
            "25000/25000 [==============================] - 111s 4ms/step - loss: 0.2689 - acc: 0.8918 - val_loss: 0.4128 - val_acc: 0.8252\n",
            "Epoch 3/6\n",
            "25000/25000 [==============================] - 111s 4ms/step - loss: 0.1889 - acc: 0.9291 - val_loss: 0.4503 - val_acc: 0.8175\n"
          ]
        }
      ]
    },
    {
      "cell_type": "markdown",
      "metadata": {
        "id": "Dvyr8B5QHlst"
      },
      "source": [
        "# = = = = = Extraction of Attention Coefficients = = = = ="
      ]
    },
    {
      "cell_type": "code",
      "metadata": {
        "id": "UVr8cS4MHlst"
      },
      "source": [
        "from keras.models import Model\n",
        "\n",
        "# define intermediate models\n",
        "### fill the two gaps below ###\n",
        "get_word_att_coeffs = Model(sent_ints,word_att_coeffs) # attention coeffs over the words in a sent\n",
        "get_sent_attention_coeffs = Model(doc_ints, sent_att_coeffs) # attention coeffs over the sents in the doc\n",
        "\n",
        "\n",
        "my_review = my_docs_array_test[-1:,:,:] # select last review\n",
        "# convert integer review to text\n",
        "index_to_word[1] = 'OOV'\n",
        "my_review_text = [[index_to_word[idx] for idx in sent if idx in index_to_word] for sent in my_review.tolist()[0]]\n"
      ],
      "execution_count": 164,
      "outputs": []
    },
    {
      "cell_type": "markdown",
      "metadata": {
        "id": "wHDJ7JiqHlsu"
      },
      "source": [
        "# = = = = = Attention Over Sentences in the Document = = = = ="
      ]
    },
    {
      "cell_type": "code",
      "metadata": {
        "id": "yooWg3kkHlsu",
        "colab": {
          "base_uri": "https://localhost:8080/"
        },
        "outputId": "513813d2-ab59-4749-86eb-8238bafc8c49"
      },
      "source": [
        "sent_coeffs = get_sent_attention_coeffs.predict(my_review)\n",
        "sent_coeffs = sent_coeffs[0,:,:]\n",
        "for elt in zip(sent_coeffs[:,0].tolist(),[' '.join(elt) for elt in my_review_text]):\n",
        "    print(round(elt[0]*100,2),elt[1])"
      ],
      "execution_count": 165,
      "outputs": [
        {
          "output_type": "stream",
          "name": "stdout",
          "text": [
            "6.31 There 's a sign on The Lost Highway that says : OOV SPOILERS OOV ( but you already knew that , did n't you ? )\n",
            "10.11 Since there 's a great deal of people that apparently did not get the point of this movie , I 'd like to contribute my interpretation of why the plot\n",
            "6.5 As others have pointed out , one single viewing of this movie is not sufficient .\n",
            "14.72 If you have the DVD of MD , you can OOV ' by looking at David Lynch 's 'Top 10 OOV to OOV MD ' ( but only upon second\n",
            "22.53 ; ) First of all , Mulholland Drive is downright brilliant .\n",
            "25.17 A masterpiece .\n",
            "14.67 This is the kind of movie that refuse to leave your head .\n"
          ]
        }
      ]
    },
    {
      "cell_type": "markdown",
      "metadata": {
        "id": "rII-DNrKHlsu"
      },
      "source": [
        "# = = = = = Attention Over Words in Each Sentence = = = = ="
      ]
    },
    {
      "cell_type": "code",
      "metadata": {
        "id": "JyFjAga6Hlsu",
        "colab": {
          "base_uri": "https://localhost:8080/"
        },
        "outputId": "75443037-f772-4906-dfba-cdc76347d0fb"
      },
      "source": [
        "from keras.backend.tensorflow_backend import _to_tensor\n",
        "\n",
        "my_review_tensor = _to_tensor(my_review,dtype='float32') # a layer, unlike a model, requires a TensorFlow tensor as input\n",
        "\n",
        "word_coeffs = word_coeffs = TimeDistributed(get_word_att_coeffs)(my_review_tensor)  ### fill the gap ### # get the word attentional coefficients for each sentence in the document\n",
        "word_coeffs = K.eval(word_coeffs) # shape = (1, 7, 30, 1): (batch size, nb of sents in doc, nb of words per sent, coeff)\n",
        "word_coeffs = word_coeffs[0,:,:,0] # shape = (7, 30) (coeff for each word in each sentence)\n",
        "word_coeffs = sent_coeffs * word_coeffs # re-weight by sentence importance\n",
        "word_coeffs = np.round((word_coeffs*100).astype(np.float64),2)\n",
        "\n",
        "word_coeffs_list = word_coeffs.tolist()\n",
        "# match text and coefficients\n",
        "text_word_coeffs = [list(zip(words,word_coeffs_list[idx][:len(words)])) for idx,words in enumerate(my_review_text)]\n",
        "\n",
        "for sent in text_word_coeffs:\n",
        "    [print(elt) for elt in sent]  \n",
        "    print('= = = =')\n",
        "\n",
        "# sort words by importance within each sentence\n",
        "text_word_coeffs_sorted = [sorted(elt,key=operator.itemgetter(1),reverse=True) for elt in text_word_coeffs]\n",
        "\n",
        "\n",
        "for sent in text_word_coeffs_sorted:\n",
        "    [print(elt) for elt in sent]\n",
        "    print('= = = =')\n"
      ],
      "execution_count": 166,
      "outputs": [
        {
          "output_type": "stream",
          "name": "stdout",
          "text": [
            "('There', 0.02)\n",
            "(\"'s\", 0.03)\n",
            "('a', 0.04)\n",
            "('sign', 0.02)\n",
            "('on', 0.19)\n",
            "('The', 0.25)\n",
            "('Lost', 3.27)\n",
            "('Highway', 0.43)\n",
            "('that', 0.21)\n",
            "('says', 0.08)\n",
            "(':', 0.04)\n",
            "('OOV', 0.03)\n",
            "('SPOILERS', 0.03)\n",
            "('OOV', 0.02)\n",
            "('(', 0.02)\n",
            "('but', 0.01)\n",
            "('you', 0.3)\n",
            "('already', 0.09)\n",
            "('knew', 0.14)\n",
            "('that', 0.08)\n",
            "(',', 0.03)\n",
            "('did', 0.02)\n",
            "(\"n't\", 0.01)\n",
            "('you', 0.05)\n",
            "('?', 0.01)\n",
            "(')', 0.25)\n",
            "= = = =\n",
            "('Since', 0.34)\n",
            "('there', 0.22)\n",
            "(\"'s\", 0.31)\n",
            "('a', 0.6)\n",
            "('great', 7.01)\n",
            "('deal', 1.13)\n",
            "('of', 0.15)\n",
            "('people', 0.2)\n",
            "('that', 0.06)\n",
            "('apparently', 0.01)\n",
            "('did', 0.02)\n",
            "('not', 0.01)\n",
            "('get', 0.02)\n",
            "('the', 0.01)\n",
            "('point', 0.0)\n",
            "('of', 0.0)\n",
            "('this', 0.0)\n",
            "('movie', 0.0)\n",
            "(',', 0.0)\n",
            "('I', 0.0)\n",
            "(\"'d\", 0.0)\n",
            "('like', 0.0)\n",
            "('to', 0.0)\n",
            "('contribute', 0.0)\n",
            "('my', 0.0)\n",
            "('interpretation', 0.0)\n",
            "('of', 0.0)\n",
            "('why', 0.0)\n",
            "('the', 0.0)\n",
            "('plot', 0.0)\n",
            "= = = =\n",
            "('As', 0.21)\n",
            "('others', 0.35)\n",
            "('have', 0.1)\n",
            "('pointed', 0.06)\n",
            "('out', 0.2)\n",
            "(',', 0.19)\n",
            "('one', 0.2)\n",
            "('single', 0.1)\n",
            "('viewing', 0.75)\n",
            "('of', 0.13)\n",
            "('this', 0.16)\n",
            "('movie', 0.22)\n",
            "('is', 0.25)\n",
            "('not', 0.45)\n",
            "('sufficient', 1.65)\n",
            "('.', 0.33)\n",
            "= = = =\n",
            "('If', 0.04)\n",
            "('you', 0.2)\n",
            "('have', 0.05)\n",
            "('the', 0.14)\n",
            "('DVD', 0.19)\n",
            "('of', 0.1)\n",
            "('MD', 0.28)\n",
            "(',', 0.04)\n",
            "('you', 0.07)\n",
            "('can', 0.03)\n",
            "('OOV', 0.03)\n",
            "(\"'\", 0.02)\n",
            "('by', 0.04)\n",
            "('looking', 0.03)\n",
            "('at', 0.14)\n",
            "('David', 0.22)\n",
            "('Lynch', 0.18)\n",
            "(\"'s\", 1.17)\n",
            "(\"'Top\", 8.5)\n",
            "('10', 0.51)\n",
            "('OOV', 0.27)\n",
            "('to', 0.28)\n",
            "('OOV', 0.15)\n",
            "('MD', 0.45)\n",
            "(\"'\", 0.04)\n",
            "('(', 0.06)\n",
            "('but', 0.03)\n",
            "('only', 0.22)\n",
            "('upon', 0.13)\n",
            "('second', 1.13)\n",
            "= = = =\n",
            "(';', 0.0)\n",
            "(')', 0.01)\n",
            "('First', 0.0)\n",
            "('of', 0.01)\n",
            "('all', 0.01)\n",
            "(',', 0.05)\n",
            "('Mulholland', 0.12)\n",
            "('Drive', 0.09)\n",
            "('is', 0.02)\n",
            "('downright', 0.03)\n",
            "('brilliant', 21.54)\n",
            "('.', 0.12)\n",
            "= = = =\n",
            "('A', 0.68)\n",
            "('masterpiece', 22.38)\n",
            "('.', 0.35)\n",
            "= = = =\n",
            "('This', 1.16)\n",
            "('is', 1.38)\n",
            "('the', 3.37)\n",
            "('kind', 0.82)\n",
            "('of', 1.59)\n",
            "('movie', 1.48)\n",
            "('that', 0.96)\n",
            "('refuse', 0.19)\n",
            "('to', 0.46)\n",
            "('leave', 0.22)\n",
            "('your', 0.96)\n",
            "('head', 0.41)\n",
            "('.', 0.32)\n",
            "= = = =\n",
            "('Lost', 3.27)\n",
            "('Highway', 0.43)\n",
            "('you', 0.3)\n",
            "('The', 0.25)\n",
            "(')', 0.25)\n",
            "('that', 0.21)\n",
            "('on', 0.19)\n",
            "('knew', 0.14)\n",
            "('already', 0.09)\n",
            "('says', 0.08)\n",
            "('that', 0.08)\n",
            "('you', 0.05)\n",
            "('a', 0.04)\n",
            "(':', 0.04)\n",
            "(\"'s\", 0.03)\n",
            "('OOV', 0.03)\n",
            "('SPOILERS', 0.03)\n",
            "(',', 0.03)\n",
            "('There', 0.02)\n",
            "('sign', 0.02)\n",
            "('OOV', 0.02)\n",
            "('(', 0.02)\n",
            "('did', 0.02)\n",
            "('but', 0.01)\n",
            "(\"n't\", 0.01)\n",
            "('?', 0.01)\n",
            "= = = =\n",
            "('great', 7.01)\n",
            "('deal', 1.13)\n",
            "('a', 0.6)\n",
            "('Since', 0.34)\n",
            "(\"'s\", 0.31)\n",
            "('there', 0.22)\n",
            "('people', 0.2)\n",
            "('of', 0.15)\n",
            "('that', 0.06)\n",
            "('did', 0.02)\n",
            "('get', 0.02)\n",
            "('apparently', 0.01)\n",
            "('not', 0.01)\n",
            "('the', 0.01)\n",
            "('point', 0.0)\n",
            "('of', 0.0)\n",
            "('this', 0.0)\n",
            "('movie', 0.0)\n",
            "(',', 0.0)\n",
            "('I', 0.0)\n",
            "(\"'d\", 0.0)\n",
            "('like', 0.0)\n",
            "('to', 0.0)\n",
            "('contribute', 0.0)\n",
            "('my', 0.0)\n",
            "('interpretation', 0.0)\n",
            "('of', 0.0)\n",
            "('why', 0.0)\n",
            "('the', 0.0)\n",
            "('plot', 0.0)\n",
            "= = = =\n",
            "('sufficient', 1.65)\n",
            "('viewing', 0.75)\n",
            "('not', 0.45)\n",
            "('others', 0.35)\n",
            "('.', 0.33)\n",
            "('is', 0.25)\n",
            "('movie', 0.22)\n",
            "('As', 0.21)\n",
            "('out', 0.2)\n",
            "('one', 0.2)\n",
            "(',', 0.19)\n",
            "('this', 0.16)\n",
            "('of', 0.13)\n",
            "('have', 0.1)\n",
            "('single', 0.1)\n",
            "('pointed', 0.06)\n",
            "= = = =\n",
            "(\"'Top\", 8.5)\n",
            "(\"'s\", 1.17)\n",
            "('second', 1.13)\n",
            "('10', 0.51)\n",
            "('MD', 0.45)\n",
            "('MD', 0.28)\n",
            "('to', 0.28)\n",
            "('OOV', 0.27)\n",
            "('David', 0.22)\n",
            "('only', 0.22)\n",
            "('you', 0.2)\n",
            "('DVD', 0.19)\n",
            "('Lynch', 0.18)\n",
            "('OOV', 0.15)\n",
            "('the', 0.14)\n",
            "('at', 0.14)\n",
            "('upon', 0.13)\n",
            "('of', 0.1)\n",
            "('you', 0.07)\n",
            "('(', 0.06)\n",
            "('have', 0.05)\n",
            "('If', 0.04)\n",
            "(',', 0.04)\n",
            "('by', 0.04)\n",
            "(\"'\", 0.04)\n",
            "('can', 0.03)\n",
            "('OOV', 0.03)\n",
            "('looking', 0.03)\n",
            "('but', 0.03)\n",
            "(\"'\", 0.02)\n",
            "= = = =\n",
            "('brilliant', 21.54)\n",
            "('Mulholland', 0.12)\n",
            "('.', 0.12)\n",
            "('Drive', 0.09)\n",
            "(',', 0.05)\n",
            "('downright', 0.03)\n",
            "('is', 0.02)\n",
            "(')', 0.01)\n",
            "('of', 0.01)\n",
            "('all', 0.01)\n",
            "(';', 0.0)\n",
            "('First', 0.0)\n",
            "= = = =\n",
            "('masterpiece', 22.38)\n",
            "('A', 0.68)\n",
            "('.', 0.35)\n",
            "= = = =\n",
            "('the', 3.37)\n",
            "('of', 1.59)\n",
            "('movie', 1.48)\n",
            "('is', 1.38)\n",
            "('This', 1.16)\n",
            "('that', 0.96)\n",
            "('your', 0.96)\n",
            "('kind', 0.82)\n",
            "('to', 0.46)\n",
            "('head', 0.41)\n",
            "('.', 0.32)\n",
            "('leave', 0.22)\n",
            "('refuse', 0.19)\n",
            "= = = =\n"
          ]
        }
      ]
    },
    {
      "cell_type": "markdown",
      "metadata": {
        "id": "rgIFj894Gt2J"
      },
      "source": [
        "## Plotting the results"
      ]
    },
    {
      "cell_type": "code",
      "metadata": {
        "id": "dkm2II0JZB6p",
        "colab": {
          "base_uri": "https://localhost:8080/",
          "height": 1000
        },
        "outputId": "791026ed-a3db-458d-a6e3-9df87367e9a9"
      },
      "source": [
        "for i in range(len(text_word_coeffs_sorted)):\n",
        "  words,attcoeffs = zip(*text_word_coeffs_sorted[i])\n",
        "  title=' '.join(my_review_text[i])\n",
        "  plt.title(f\"{title}\")\n",
        "  plt.ylabel(\"attention coefficients\")\n",
        "  y_pos = np.arange(len(words))\n",
        "  plt.bar(y_pos, attcoeffs)\n",
        "  plt.xticks(y_pos, words, rotation=90)\n",
        "  plt.show()"
      ],
      "execution_count": 167,
      "outputs": [
        {
          "output_type": "display_data",
          "data": {
            "image/png": "[encoded data removed]",
            "text/plain": [
              "<Figure size 432x288 with 1 Axes>"
            ]
          },
          "metadata": {
            "needs_background": "light"
          }
        },
        {
          "output_type": "display_data",
          "data": {
            "image/png": "[encoded data removed]",
            "text/plain": [
              "<Figure size 432x288 with 1 Axes>"
            ]
          },
          "metadata": {
            "needs_background": "light"
          }
        },
        {
          "output_type": "display_data",
          "data": {
            "image/png": "[encoded data removed]",
            "text/plain": [
              "<Figure size 432x288 with 1 Axes>"
            ]
          },
          "metadata": {
            "needs_background": "light"
          }
        },
        {
          "output_type": "display_data",
          "data": {
            "image/png": "[encoded data removed]",
            "text/plain": [
              "<Figure size 432x288 with 1 Axes>"
            ]
          },
          "metadata": {
            "needs_background": "light"
          }
        },
        {
          "output_type": "display_data",
          "data": {
            "image/png": "[encoded data removed]",
            "text/plain": [
              "<Figure size 432x288 with 1 Axes>"
            ]
          },
          "metadata": {
            "needs_background": "light"
          }
        },
        {
          "output_type": "display_data",
          "data": {
            "image/png": "[encoded data removed]",
            "text/plain": [
              "<Figure size 432x288 with 1 Axes>"
            ]
          },
          "metadata": {
            "needs_background": "light"
          }
        },
        {
          "output_type": "display_data",
          "data": {
            "image/png": "[encoded data removed]",
            "text/plain": [
              "<Figure size 432x288 with 1 Axes>"
            ]
          },
          "metadata": {
            "needs_background": "light"
          }
        }
      ]
    },
    {
      "cell_type": "code",
      "metadata": {
        "id": "wslT0c5M8TFi"
      },
      "source": [
        ""
      ],
      "execution_count": null,
      "outputs": []
    }
  ]
}